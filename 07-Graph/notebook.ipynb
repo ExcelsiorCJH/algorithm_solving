{
 "cells": [
  {
   "cell_type": "markdown",
   "metadata": {},
   "source": [
    "# Graph"
   ]
  },
  {
   "cell_type": "markdown",
   "metadata": {},
   "source": [
    " "
   ]
  },
  {
   "cell_type": "code",
   "execution_count": 1,
   "metadata": {},
   "outputs": [],
   "source": [
    "%load_ext lab_black"
   ]
  },
  {
   "cell_type": "code",
   "execution_count": 2,
   "metadata": {},
   "outputs": [],
   "source": [
    "from typing import *"
   ]
  },
  {
   "cell_type": "markdown",
   "metadata": {},
   "source": [
    "## 200. Number of Islands"
   ]
  },
  {
   "cell_type": "markdown",
   "metadata": {},
   "source": [
    "```\n",
    "Input: grid = [\n",
    "  [\"1\",\"1\",\"1\",\"1\",\"0\"],\n",
    "  [\"1\",\"1\",\"0\",\"1\",\"0\"],\n",
    "  [\"1\",\"1\",\"0\",\"0\",\"0\"],\n",
    "  [\"0\",\"0\",\"0\",\"0\",\"0\"]\n",
    "]\n",
    "Output: 1\n",
    "```\n",
    "\n",
    "```\n",
    "Input: grid = [\n",
    "  [\"1\",\"1\",\"0\",\"0\",\"0\"],\n",
    "  [\"1\",\"1\",\"0\",\"0\",\"0\"],\n",
    "  [\"0\",\"0\",\"1\",\"0\",\"0\"],\n",
    "  [\"0\",\"0\",\"0\",\"1\",\"1\"]\n",
    "]\n",
    "Output: 3\n",
    "```"
   ]
  },
  {
   "cell_type": "code",
   "execution_count": 1,
   "metadata": {},
   "outputs": [],
   "source": [
    "# %load_ext lab_black"
   ]
  },
  {
   "cell_type": "code",
   "execution_count": 40,
   "metadata": {},
   "outputs": [],
   "source": [
    "from pprint import pprint"
   ]
  },
  {
   "cell_type": "code",
   "execution_count": 45,
   "metadata": {},
   "outputs": [],
   "source": [
    "grid = [\n",
    "    [\"1\", \"1\", \"1\", \"1\", \"0\"],\n",
    "    [\"1\", \"1\", \"0\", \"1\", \"0\"],\n",
    "    [\"1\", \"1\", \"0\", \"0\", \"0\"],\n",
    "    [\"0\", \"0\", \"0\", \"1\", \"0\"],\n",
    "]"
   ]
  },
  {
   "cell_type": "code",
   "execution_count": 46,
   "metadata": {},
   "outputs": [],
   "source": [
    "# pprint(grid)"
   ]
  },
  {
   "cell_type": "code",
   "execution_count": 49,
   "metadata": {},
   "outputs": [],
   "source": [
    "def dfs(i, j):\n",
    "    # 더이상 땅이 아닌 경우 종료\n",
    "    if i < 0 or i >= len(grid) or \\\n",
    "        j < 0 or j >= len(grid[0]) or \\\n",
    "        grid[i][j] != \"1\":\n",
    "\n",
    "        return\n",
    "    \n",
    "    grid[i][j] = 0\n",
    "    \n",
    "    # 동서남북 탐색\n",
    "    dfs(i + 1, j)\n",
    "    dfs(i - 1, j)\n",
    "    dfs(i, j + 1)\n",
    "    dfs(i, j - 1)"
   ]
  },
  {
   "cell_type": "code",
   "execution_count": 50,
   "metadata": {},
   "outputs": [],
   "source": [
    "count = 0\n",
    "for i in range(len(grid)):\n",
    "    for j in range(len(grid[0])):\n",
    "        if grid[i][j] == \"1\":\n",
    "            dfs(i, j)\n",
    "            count += 1"
   ]
  },
  {
   "cell_type": "markdown",
   "metadata": {},
   "source": [
    "### Solution"
   ]
  },
  {
   "cell_type": "code",
   "execution_count": 53,
   "metadata": {},
   "outputs": [],
   "source": [
    "class Solution:\n",
    "    def numIslands(self, grid: List[List[str]]) -> int:\n",
    "        def dfs(i, j):\n",
    "            # 더이상 땅이 아닌 경우 종료\n",
    "            if i < 0 or i >= len(grid) or \\\n",
    "                j < 0 or j >= len(grid[0]) or \\\n",
    "                grid[i][j] != \"1\":\n",
    "\n",
    "                return\n",
    "\n",
    "            grid[i][j] = 0\n",
    "\n",
    "            # 동서남북 탐색\n",
    "            dfs(i + 1, j)\n",
    "            dfs(i - 1, j)\n",
    "            dfs(i, j + 1)\n",
    "            dfs(i, j - 1)\n",
    "            \n",
    "        count = 0\n",
    "        for i in range(len(grid)):\n",
    "            for j in range(len(grid[0])):\n",
    "                if grid[i][j] == \"1\":\n",
    "                    dfs(i, j)\n",
    "                    count += 1 \n",
    "        \n",
    "        return count"
   ]
  },
  {
   "cell_type": "markdown",
   "metadata": {},
   "source": [
    "--- "
   ]
  },
  {
   "cell_type": "markdown",
   "metadata": {},
   "source": [
    "## 33. Letter Combinations of a Phone Number"
   ]
  },
  {
   "cell_type": "code",
   "execution_count": null,
   "metadata": {},
   "outputs": [],
   "source": []
  },
  {
   "cell_type": "code",
   "execution_count": 31,
   "metadata": {},
   "outputs": [],
   "source": [
    "dic = {\n",
    "    \"2\": \"abc\",\n",
    "    \"3\": \"def\",\n",
    "    \"4\": \"ghi\",\n",
    "    \"5\": \"jkl\",\n",
    "    \"6\": \"mno\",\n",
    "    \"7\": \"pqrs\",\n",
    "    \"8\": \"tuv\",\n",
    "    \"9\": \"wxyz\",\n",
    "}\n",
    "\n",
    "digits = \"234\""
   ]
  },
  {
   "cell_type": "code",
   "execution_count": 40,
   "metadata": {},
   "outputs": [],
   "source": [
    "def dfs(index, path):\n",
    "    #     print(path)\n",
    "    if len(path) == len(digits):\n",
    "        result.append(path)\n",
    "        return\n",
    "\n",
    "    for i in range(index, len(digits)):\n",
    "        for j in dic[digits[i]]:\n",
    "            #             print(i, j)\n",
    "            dfs(i + 1, path + j)"
   ]
  },
  {
   "cell_type": "code",
   "execution_count": 41,
   "metadata": {},
   "outputs": [],
   "source": [
    "result = []\n",
    "dfs(0, \"\")"
   ]
  },
  {
   "cell_type": "code",
   "execution_count": 35,
   "metadata": {},
   "outputs": [],
   "source": [
    "# result"
   ]
  },
  {
   "cell_type": "code",
   "execution_count": 43,
   "metadata": {},
   "outputs": [],
   "source": [
    "class Solution:\n",
    "    def letterCombinations(self, digits: str) -> List[str]:\n",
    "        # dfs function\n",
    "        def dfs(index, path):\n",
    "            if len(path) == len(digits):\n",
    "                result.append(path)\n",
    "                return\n",
    "\n",
    "            for i in range(index, len(digits)):\n",
    "                for j in dic[digits[i]]:\n",
    "                    dfs(i + 1, path + j)\n",
    "\n",
    "        result = []\n",
    "        if digits:\n",
    "            dfs(0, \"\")\n",
    "        return result"
   ]
  },
  {
   "cell_type": "code",
   "execution_count": null,
   "metadata": {},
   "outputs": [],
   "source": []
  }
 ],
 "metadata": {
  "kernelspec": {
   "display_name": "Python 3",
   "language": "python",
   "name": "python3"
  },
  "language_info": {
   "codemirror_mode": {
    "name": "ipython",
    "version": 3
   },
   "file_extension": ".py",
   "mimetype": "text/x-python",
   "name": "python",
   "nbconvert_exporter": "python",
   "pygments_lexer": "ipython3",
   "version": "3.7.6"
  }
 },
 "nbformat": 4,
 "nbformat_minor": 4
}
