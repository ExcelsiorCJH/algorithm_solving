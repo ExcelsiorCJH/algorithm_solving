{
 "cells": [
  {
   "cell_type": "markdown",
   "metadata": {},
   "source": [
    "# Sort"
   ]
  },
  {
   "cell_type": "markdown",
   "metadata": {},
   "source": [
    " "
   ]
  },
  {
   "cell_type": "code",
   "execution_count": 1,
   "metadata": {},
   "outputs": [],
   "source": [
    "%load_ext lab_black"
   ]
  },
  {
   "cell_type": "code",
   "execution_count": 7,
   "metadata": {},
   "outputs": [],
   "source": [
    "import random"
   ]
  },
  {
   "cell_type": "markdown",
   "metadata": {},
   "source": [
    "## 01. Bubble Sort"
   ]
  },
  {
   "cell_type": "code",
   "execution_count": 4,
   "metadata": {},
   "outputs": [],
   "source": [
    "def bubblesort(A):\n",
    "    for i in range(1, len(A)):\n",
    "        for j in range(0, len(A) - 1):\n",
    "            if A[j] > A[j + 1]:\n",
    "                # swap\n",
    "                A[j], A[j + 1] = A[j + 1], A[j]\n",
    "    return A"
   ]
  },
  {
   "cell_type": "code",
   "execution_count": 14,
   "metadata": {},
   "outputs": [],
   "source": [
    "# A = [38, 27, 43, 3, 9, 82, 10]\n",
    "A = random.sample(range(1, 10000), 5000)"
   ]
  },
  {
   "cell_type": "code",
   "execution_count": 16,
   "metadata": {},
   "outputs": [
    {
     "name": "stdout",
     "output_type": "stream",
     "text": [
      "Wall time: 2.01 s\n"
     ]
    }
   ],
   "source": [
    "%%time\n",
    "\n",
    "A_sort = bubblesort(A)"
   ]
  },
  {
   "cell_type": "markdown",
   "metadata": {},
   "source": [
    " "
   ]
  },
  {
   "cell_type": "markdown",
   "metadata": {},
   "source": [
    "## 02. Quick Sort(퀵 정렬)"
   ]
  },
  {
   "cell_type": "code",
   "execution_count": 17,
   "metadata": {},
   "outputs": [],
   "source": [
    "def quick_sort_cache(seq):\n",
    "    if len(seq) < 2:\n",
    "        return seq\n",
    "\n",
    "    pivot_idx = len(seq) // 2\n",
    "    pivot = seq[pivot_idx]\n",
    "\n",
    "    # before pivot\n",
    "    before = [x for idx, x in enumerate(seq) if x <= pivot and idx != pivot_idx]\n",
    "    # after pivot\n",
    "    after = [x for idx, x in enumerate(seq) if x > pivot and idx != pivot_idx]\n",
    "\n",
    "    return quick_sort_cache(before) + [pivot] + quick_sort_cache(after)"
   ]
  },
  {
   "cell_type": "code",
   "execution_count": 18,
   "metadata": {},
   "outputs": [
    {
     "name": "stdout",
     "output_type": "stream",
     "text": [
      "Wall time: 11 ms\n"
     ]
    }
   ],
   "source": [
    "%%time\n",
    "\n",
    "A_sort = quick_sort_cache(A)"
   ]
  },
  {
   "cell_type": "markdown",
   "metadata": {},
   "source": [
    " "
   ]
  },
  {
   "cell_type": "markdown",
   "metadata": {},
   "source": [
    "## Leet_148. Sort List "
   ]
  },
  {
   "cell_type": "code",
   "execution_count": 24,
   "metadata": {},
   "outputs": [],
   "source": [
    "from typing import TypeVar\n",
    "\n",
    "ListNode = TypeVar(\"ListNode\")"
   ]
  },
  {
   "cell_type": "code",
   "execution_count": 27,
   "metadata": {},
   "outputs": [],
   "source": [
    "# # Definition for singly-linked list.\n",
    "# class ListNode:\n",
    "#     def __init__(self, val=0, next=None):\n",
    "#         self.val = val\n",
    "#         self.next = next"
   ]
  },
  {
   "cell_type": "code",
   "execution_count": 26,
   "metadata": {},
   "outputs": [],
   "source": [
    "class Solution:\n",
    "    def sortList(self, head: ListNode) -> ListNode:\n",
    "        def sortList(self, head: ListNode) -> ListNode:\n",
    "            # LinkedList -> python list\n",
    "            p = head\n",
    "            lst = []\n",
    "            while p:\n",
    "                lst.append(p.val)\n",
    "                p = p.next\n",
    "\n",
    "            # sort\n",
    "            lst.sort()\n",
    "\n",
    "            # python list -> LinkedList\n",
    "            p = head\n",
    "            for el in lst:\n",
    "                p.val = el\n",
    "                p = p.next\n",
    "            return head"
   ]
  },
  {
   "cell_type": "markdown",
   "metadata": {},
   "source": [
    " "
   ]
  },
  {
   "cell_type": "markdown",
   "metadata": {},
   "source": [
    "## Leet_56. Merge Intervals"
   ]
  },
  {
   "cell_type": "code",
   "execution_count": 77,
   "metadata": {},
   "outputs": [],
   "source": [
    "intervals = [\n",
    "    [1, 4],\n",
    "    [2, 3],\n",
    "]  # [[1, 4], [4, 5]]  # [[1, 3], [2, 6], [8, 10], [15, 18], [16, 20]]"
   ]
  },
  {
   "cell_type": "code",
   "execution_count": 78,
   "metadata": {},
   "outputs": [],
   "source": [
    "intervals.sort(key=lambda x: x[0])"
   ]
  },
  {
   "cell_type": "code",
   "execution_count": 80,
   "metadata": {},
   "outputs": [],
   "source": [
    "mins = [el[0] for el in intervals]\n",
    "maxs = [el[1] for el in intervals]"
   ]
  },
  {
   "cell_type": "code",
   "execution_count": 81,
   "metadata": {},
   "outputs": [],
   "source": [
    "merge_idxs = []\n",
    "for idx in range(1, len(mins)):\n",
    "    lb = mins[idx]\n",
    "    ub = maxs[idx - 1]\n",
    "    if ub >= lb:\n",
    "        merge_idxs.append(idx - 1)"
   ]
  },
  {
   "cell_type": "code",
   "execution_count": 82,
   "metadata": {},
   "outputs": [],
   "source": [
    "results, ex_idxs = [], []\n",
    "for idx in range(len(intervals)):\n",
    "    if idx in merge_idxs:\n",
    "        lb = intervals[idx][0]\n",
    "        ub = intervals[idx + 1][1]\n",
    "        results.append([lb, ub])\n",
    "        ex_idxs.append(idx + 1)\n",
    "    else:\n",
    "        if idx not in ex_idxs:\n",
    "            results.append(intervals[idx])"
   ]
  },
  {
   "cell_type": "code",
   "execution_count": 83,
   "metadata": {},
   "outputs": [
    {
     "data": {
      "text/plain": [
       "[[1, 3]]"
      ]
     },
     "execution_count": 83,
     "metadata": {},
     "output_type": "execute_result"
    }
   ],
   "source": [
    "results"
   ]
  },
  {
   "cell_type": "markdown",
   "metadata": {},
   "source": [
    "--- "
   ]
  },
  {
   "cell_type": "code",
   "execution_count": 89,
   "metadata": {},
   "outputs": [],
   "source": [
    "intervals = [[1, 4], [2, 3]]"
   ]
  },
  {
   "cell_type": "code",
   "execution_count": 100,
   "metadata": {},
   "outputs": [],
   "source": [
    "merged = []\n",
    "for interval in sorted(intervals, key=lambda x: x[0]):\n",
    "    if merged and interval[0] <= merged[-1][1]:\n",
    "        merged[-1][1] = max(merged[-1][1], interval[1])\n",
    "    else:\n",
    "        merged.append(interval)"
   ]
  },
  {
   "cell_type": "code",
   "execution_count": 99,
   "metadata": {},
   "outputs": [
    {
     "data": {
      "text/plain": [
       "[[1, 4]]"
      ]
     },
     "execution_count": 99,
     "metadata": {},
     "output_type": "execute_result"
    }
   ],
   "source": [
    "merged"
   ]
  },
  {
   "cell_type": "code",
   "execution_count": null,
   "metadata": {},
   "outputs": [],
   "source": []
  }
 ],
 "metadata": {
  "kernelspec": {
   "display_name": "Python 3",
   "language": "python",
   "name": "python3"
  },
  "language_info": {
   "codemirror_mode": {
    "name": "ipython",
    "version": 3
   },
   "file_extension": ".py",
   "mimetype": "text/x-python",
   "name": "python",
   "nbconvert_exporter": "python",
   "pygments_lexer": "ipython3",
   "version": "3.7.6"
  }
 },
 "nbformat": 4,
 "nbformat_minor": 4
}
