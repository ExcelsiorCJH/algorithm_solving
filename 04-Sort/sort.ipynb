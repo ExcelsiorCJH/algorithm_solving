{
 "cells": [
  {
   "cell_type": "markdown",
   "metadata": {},
   "source": [
    "# Sort"
   ]
  },
  {
   "cell_type": "code",
   "execution_count": 1,
   "metadata": {},
   "outputs": [],
   "source": [
    "%load_ext lab_black"
   ]
  },
  {
   "cell_type": "markdown",
   "metadata": {},
   "source": [
    " "
   ]
  },
  {
   "cell_type": "markdown",
   "metadata": {},
   "source": [
    "## 0. Overview\n",
    "\n",
    "- **제자리 정렬(in-place sort)**\n",
    "\n",
    "    - 정렬할 항목의 수에 비해 아주 작은 저장 공간을 사용하는 방법\n"
   ]
  },
  {
   "cell_type": "markdown",
   "metadata": {},
   "source": [
    "- **안정적 정렬(stable sort)**\n",
    "\n",
    "    - 데이터 요소의 상대적인 순서를 보존\n",
    "    - 데이터의 두 항목(요소)이 같을 때, 정렬 전의 위치 상태를 똑같이 유지"
   ]
  },
  {
   "cell_type": "markdown",
   "metadata": {},
   "source": [
    " "
   ]
  },
  {
   "cell_type": "markdown",
   "metadata": {},
   "source": [
    "## 1. 2차 정렬"
   ]
  },
  {
   "cell_type": "markdown",
   "metadata": {},
   "source": [
    "### 1) Bubble Sort\n",
    "\n",
    "- 인접한 두 항목을 비교하여 정렬\n",
    "\n",
    "- 시간복잡도는 $O(n^2)$"
   ]
  },
  {
   "cell_type": "code",
   "execution_count": 2,
   "metadata": {},
   "outputs": [],
   "source": [
    "seq = [4, 5, 2, 1, 6, 2, 7, 10, 13, 8]"
   ]
  },
  {
   "cell_type": "code",
   "execution_count": 4,
   "metadata": {},
   "outputs": [],
   "source": [
    "length = len(seq) - 1\n",
    "for num in range(length, 0, -1):\n",
    "    for idx in range(num):\n",
    "        # seq[idx] > seq[idx + 1] then Swap\n",
    "        if seq[idx] > seq[idx + 1]:\n",
    "            seq[idx], seq[idx + 1] = seq[idx + 1], seq[idx]"
   ]
  },
  {
   "cell_type": "code",
   "execution_count": 6,
   "metadata": {},
   "outputs": [],
   "source": [
    "# 함수로 만들기\n",
    "def bubble_sort(seq):\n",
    "    length = len(seq) - 1\n",
    "    for num in range(length, 0, -1):\n",
    "        for idx in range(num):\n",
    "            if seq[idx] > seq[idx + 1]:\n",
    "                seq[idx], seq[idx + 1] = seq[idx + 1], seq[idx]\n",
    "    return seq"
   ]
  },
  {
   "cell_type": "code",
   "execution_count": 7,
   "metadata": {},
   "outputs": [
    {
     "data": {
      "text/plain": [
       "[1, 2, 2, 4, 5, 6, 7, 8, 10, 13]"
      ]
     },
     "execution_count": 7,
     "metadata": {},
     "output_type": "execute_result"
    }
   ],
   "source": [
    "seq = [4, 5, 2, 1, 6, 2, 7, 10, 13, 8]\n",
    "\n",
    "bubble_sort(seq)"
   ]
  },
  {
   "cell_type": "markdown",
   "metadata": {},
   "source": [
    " "
   ]
  },
  {
   "cell_type": "markdown",
   "metadata": {},
   "source": [
    "### 2) Selection sort\n",
    "\n",
    "- 가장 작거나 큰 요소를 찾아서 첫 번째 요소 또는 마지막 요소와 위치를 바꿔줌\n",
    "\n",
    "- 위의 과정을 반복함\n",
    "\n",
    "- 시간 복잡도는 $O(n^2)$"
   ]
  },
  {
   "cell_type": "code",
   "execution_count": 8,
   "metadata": {},
   "outputs": [],
   "source": [
    "seq = [4, 5, 2, 1, 6, 2, 7, 10, 13, 8]"
   ]
  },
  {
   "cell_type": "code",
   "execution_count": 9,
   "metadata": {},
   "outputs": [],
   "source": [
    "for i in range(len(seq) - 1):\n",
    "    min_idx = i\n",
    "    for j in range(i + 1, len(seq)):\n",
    "        if seq[min_idx] > seq[j]:\n",
    "            min_idx = j\n",
    "    seq[i], seq[min_idx] = seq[min_idx], seq[i]"
   ]
  },
  {
   "cell_type": "code",
   "execution_count": 10,
   "metadata": {},
   "outputs": [
    {
     "data": {
      "text/plain": [
       "[1, 2, 2, 4, 5, 6, 7, 8, 10, 13]"
      ]
     },
     "execution_count": 10,
     "metadata": {},
     "output_type": "execute_result"
    }
   ],
   "source": [
    "seq"
   ]
  },
  {
   "cell_type": "code",
   "execution_count": 11,
   "metadata": {},
   "outputs": [],
   "source": [
    "# 함수로 만들기\n",
    "def selection_sort(seq):\n",
    "    for i in range(len(seq) - 1):\n",
    "        min_idx = i\n",
    "        for j in range(i + 1, len(seq)):\n",
    "            if seq[min_idx] > seq[j]:\n",
    "                min_idx = j\n",
    "        seq[i], seq[min_idx] = seq[min_idx], seq[i]\n",
    "    return seq"
   ]
  },
  {
   "cell_type": "code",
   "execution_count": 12,
   "metadata": {},
   "outputs": [
    {
     "data": {
      "text/plain": [
       "[1, 2, 2, 4, 5, 6, 7, 8, 10, 13]"
      ]
     },
     "execution_count": 12,
     "metadata": {},
     "output_type": "execute_result"
    }
   ],
   "source": [
    "seq = [4, 5, 2, 1, 6, 2, 7, 10, 13, 8]\n",
    "\n",
    "selection_sort(seq)"
   ]
  },
  {
   "cell_type": "markdown",
   "metadata": {},
   "source": [
    " "
   ]
  },
  {
   "cell_type": "markdown",
   "metadata": {},
   "source": [
    "### 3) Insertion sort\n",
    "\n",
    "- 배열의 맨 처음 정렬된 부분에, 정렬되지 않은 항목을 반복적으로 삽입\n",
    "\n",
    "- 이미 정렬 되어 있는 경우 $O(n)$\n",
    "\n",
    "- 평균 시간복잡도는 $O(n^2)$"
   ]
  },
  {
   "cell_type": "code",
   "execution_count": 16,
   "metadata": {},
   "outputs": [],
   "source": [
    "seq = [4, 5, 2, 1, 6, 2, 7, 10, 13, 8]"
   ]
  },
  {
   "cell_type": "code",
   "execution_count": 17,
   "metadata": {},
   "outputs": [
    {
     "name": "stdout",
     "output_type": "stream",
     "text": [
      "[4, 5, 2, 1, 6, 2, 7, 10, 13, 8]\n",
      "[2, 4, 5, 1, 6, 2, 7, 10, 13, 8]\n",
      "[1, 2, 4, 5, 6, 2, 7, 10, 13, 8]\n",
      "[1, 2, 4, 5, 6, 2, 7, 10, 13, 8]\n",
      "[1, 2, 2, 4, 5, 6, 7, 10, 13, 8]\n",
      "[1, 2, 2, 4, 5, 6, 7, 10, 13, 8]\n",
      "[1, 2, 2, 4, 5, 6, 7, 10, 13, 8]\n",
      "[1, 2, 2, 4, 5, 6, 7, 10, 13, 8]\n",
      "[1, 2, 2, 4, 5, 6, 7, 8, 10, 13]\n"
     ]
    }
   ],
   "source": [
    "for i in range(1, len(seq)):\n",
    "    j = i\n",
    "    while j > 0 and seq[j - 1] > seq[j]:\n",
    "        seq[j - 1], seq[j] = seq[j], seq[j - 1]  # swap\n",
    "        j -= 1\n",
    "    print(seq)"
   ]
  },
  {
   "cell_type": "code",
   "execution_count": 15,
   "metadata": {},
   "outputs": [
    {
     "data": {
      "text/plain": [
       "[1, 2, 2, 4, 5, 6, 7, 8, 10, 13]"
      ]
     },
     "execution_count": 15,
     "metadata": {},
     "output_type": "execute_result"
    }
   ],
   "source": [
    "seq"
   ]
  },
  {
   "cell_type": "code",
   "execution_count": 18,
   "metadata": {},
   "outputs": [],
   "source": [
    "# 함수로 만들기\n",
    "def insertion_sort(seq):\n",
    "    for i in range(1, len(seq)):\n",
    "        j = i\n",
    "        while j > 0 and seq[j - 1] > seq[j]:\n",
    "            seq[j - 1], seq[j] = seq[j], seq[j - 1]\n",
    "            j -= 1\n",
    "    return seq"
   ]
  },
  {
   "cell_type": "code",
   "execution_count": 19,
   "metadata": {},
   "outputs": [
    {
     "data": {
      "text/plain": [
       "[1, 2, 2, 4, 5, 6, 7, 8, 10, 13]"
      ]
     },
     "execution_count": 19,
     "metadata": {},
     "output_type": "execute_result"
    }
   ],
   "source": [
    "seq = [4, 5, 2, 1, 6, 2, 7, 10, 13, 8]\n",
    "\n",
    "insertion_sort(seq)"
   ]
  },
  {
   "cell_type": "markdown",
   "metadata": {},
   "source": [
    " "
   ]
  },
  {
   "cell_type": "markdown",
   "metadata": {},
   "source": [
    "### 4) Gnome sort\n",
    "\n",
    "- 이동하면서 잘못 정렬된 값을 찾을 경우, 교환하면서 정렬\n",
    "\n",
    "- 평균(또는 최악) 시간복잡도는 $O(n^2)$"
   ]
  },
  {
   "cell_type": "code",
   "execution_count": 20,
   "metadata": {},
   "outputs": [],
   "source": [
    "seq = [4, 5, 2, 1, 6, 2, 7, 10, 13, 8]"
   ]
  },
  {
   "cell_type": "code",
   "execution_count": 21,
   "metadata": {},
   "outputs": [],
   "source": [
    "idx = 0\n",
    "while idx < len(seq):\n",
    "    if idx == 0 or seq[idx - 1] <= seq[idx]:\n",
    "        idx += 1\n",
    "    else:\n",
    "        seq[idx], seq[idx - 1] = seq[idx - 1], seq[idx]\n",
    "        idx -= 1"
   ]
  },
  {
   "cell_type": "code",
   "execution_count": 22,
   "metadata": {},
   "outputs": [
    {
     "data": {
      "text/plain": [
       "[1, 2, 2, 4, 5, 6, 7, 8, 10, 13]"
      ]
     },
     "execution_count": 22,
     "metadata": {},
     "output_type": "execute_result"
    }
   ],
   "source": [
    "seq"
   ]
  },
  {
   "cell_type": "code",
   "execution_count": 23,
   "metadata": {},
   "outputs": [],
   "source": [
    "# 함수로 만들기\n",
    "def gnome_sort(seq):\n",
    "    idx = 0\n",
    "    while idx < len(seq):\n",
    "        if idx == 0 or seq[idx - 1] <= seq[idx]:\n",
    "            idx += 1\n",
    "        else:\n",
    "            seq[idx], seq[idx - 1] = seq[idx - 1], seq[idx]\n",
    "            idx -= 1\n",
    "    return seq"
   ]
  },
  {
   "cell_type": "code",
   "execution_count": 24,
   "metadata": {},
   "outputs": [
    {
     "data": {
      "text/plain": [
       "[1, 2, 2, 4, 5, 6, 7, 8, 10, 13]"
      ]
     },
     "execution_count": 24,
     "metadata": {},
     "output_type": "execute_result"
    }
   ],
   "source": [
    "seq = [4, 5, 2, 1, 6, 2, 7, 10, 13, 8]\n",
    "\n",
    "gnome_sort(seq)"
   ]
  },
  {
   "cell_type": "markdown",
   "metadata": {},
   "source": [
    " "
   ]
  },
  {
   "cell_type": "markdown",
   "metadata": {},
   "source": [
    "## 2. 로그 선형 정렬"
   ]
  },
  {
   "cell_type": "markdown",
   "metadata": {},
   "source": [
    "### 1) Merge sort\n",
    "\n",
    "- 리스트를 반으로 나누어 정렬 되지 않은 리스트를 만듦\n",
    "\n",
    "- 정렬되지 않은 두 리스트의 크기가 1이 될때까지 반으로 나눔\n",
    "\n",
    "- 그런 다음, 리스트를 merge해 나가면서 정렬\n",
    "\n",
    "- 시간복잡도는 $O(n \\log n)$"
   ]
  },
  {
   "cell_type": "code",
   "execution_count": 29,
   "metadata": {},
   "outputs": [],
   "source": [
    "# 두 함수로 나눠서 구현\n",
    "# 한 함수에서는 배열을 나누고\n",
    "# 다른 함수에서는 배열을 병함\n",
    "def merge_sort(seq):\n",
    "    if len(seq) < 2:\n",
    "        return seq\n",
    "    # 배열을 나눠줌\n",
    "    mid = len(seq) // 2\n",
    "    left = merge_sort_sep(seq[:mid])\n",
    "    right = merge_sort_sep(seq[mid:])\n",
    "    # 나눈 후 Merge 해줌\n",
    "    return merge(left, right)"
   ]
  },
  {
   "cell_type": "code",
   "execution_count": 30,
   "metadata": {},
   "outputs": [],
   "source": [
    "def merge(left, right):\n",
    "    if not left or not right:\n",
    "        return left or right\n",
    "    result = []\n",
    "    l_idx, r_idx = 0, 0\n",
    "    while l_idx < len(left) and r_idx < len(right):\n",
    "        if left[l_idx] <= right[r_idx]:\n",
    "            result.append(left[l_idx])\n",
    "            l_idx += 1\n",
    "        else:\n",
    "            result.append(right[r_idx])\n",
    "            r_idx += 1\n",
    "    if left[l_idx:]:\n",
    "        result.extend(left[l_idx:])\n",
    "    if right[r_idx:]:\n",
    "        result.extend(right[r_idx:])\n",
    "    return result"
   ]
  },
  {
   "cell_type": "code",
   "execution_count": 31,
   "metadata": {},
   "outputs": [
    {
     "data": {
      "text/plain": [
       "[1, 2, 2, 4, 5, 6, 7, 8, 10, 13]"
      ]
     },
     "execution_count": 31,
     "metadata": {},
     "output_type": "execute_result"
    }
   ],
   "source": [
    "seq = [4, 5, 2, 1, 6, 2, 7, 10, 13, 8]\n",
    "\n",
    "merge_sort(seq)"
   ]
  },
  {
   "cell_type": "markdown",
   "metadata": {},
   "source": [
    " "
   ]
  },
  {
   "cell_type": "markdown",
   "metadata": {},
   "source": [
    "### 2) Quick sort\n",
    "\n",
    "- 리스트에서 기준이 되는 하나의 요소를 피벗(pivot)이라 함\n",
    "\n",
    "- 피벗(pivot)을 잘 선택하는 것이 성능의 핵심\n",
    "\n",
    "- 피벗을 기준으로 리스트를 둘로 나눔"
   ]
  },
  {
   "cell_type": "code",
   "execution_count": 32,
   "metadata": {},
   "outputs": [],
   "source": [
    "def quick_sort(seq):\n",
    "    if len(seq) < 2:\n",
    "        return seq\n",
    "\n",
    "    pivot_idx = len(seq) // 2  # 피벗 인덱스\n",
    "    pivot = seq[pivot_idx]  # 피벗\n",
    "\n",
    "    before = [x for i, x in enumerate(seq) if x <= pivot and i != pivot_idx]\n",
    "    after = [x for i, x in enumerate(seq) if x > pivot and i != pivot_idx]\n",
    "\n",
    "    print(before, [pivot], after)\n",
    "\n",
    "    return quick_sort(before) + [pivot] + quick_sort(after)"
   ]
  },
  {
   "cell_type": "code",
   "execution_count": 33,
   "metadata": {},
   "outputs": [
    {
     "name": "stdout",
     "output_type": "stream",
     "text": [
      "[2, 1] [2] [4, 5, 6, 7, 10, 13, 8]\n",
      "[] [1] [2]\n",
      "[4, 5, 6] [7] [10, 13, 8]\n",
      "[4] [5] [6]\n",
      "[10, 8] [13] []\n",
      "[] [8] [10]\n"
     ]
    },
    {
     "data": {
      "text/plain": [
       "[1, 2, 2, 4, 5, 6, 7, 8, 10, 13]"
      ]
     },
     "execution_count": 33,
     "metadata": {},
     "output_type": "execute_result"
    }
   ],
   "source": [
    "seq = [4, 5, 2, 1, 6, 2, 7, 10, 13, 8]\n",
    "\n",
    "quick_sort(seq)"
   ]
  },
  {
   "cell_type": "markdown",
   "metadata": {},
   "source": [
    " "
   ]
  },
  {
   "cell_type": "markdown",
   "metadata": {},
   "source": [
    "### 3) Heap sort\n",
    "\n",
    "- 시간복잡도 $O(n \\log n)$"
   ]
  },
  {
   "cell_type": "markdown",
   "metadata": {},
   "source": [
    "#### Heap\n",
    "\n",
    "- 각 노드가 하위 노드보다 작은(또는 큰) 이진트리\n",
    "\n",
    "- 리스트에서 가장 작은(또는 가장 큰)요소에 반복적으로 접근하는 프로그램에 유용\n",
    "\n",
    "- 가장 작은(또는 큰) 요소를 처리하는 데에는 $O(1)$\n",
    "\n",
    "- 그 외는 $O(\\log{n})$"
   ]
  },
  {
   "cell_type": "code",
   "execution_count": 37,
   "metadata": {},
   "outputs": [],
   "source": [
    "import heapq"
   ]
  },
  {
   "cell_type": "code",
   "execution_count": 38,
   "metadata": {},
   "outputs": [],
   "source": [
    "def heap_sort(seq):\n",
    "    h = []\n",
    "    for val in seq:\n",
    "        heapq.heappush(h, val)\n",
    "    return [heapq.heappop(h) for _ in range(len(h))]"
   ]
  },
  {
   "cell_type": "code",
   "execution_count": 39,
   "metadata": {},
   "outputs": [
    {
     "data": {
      "text/plain": [
       "[1, 2, 2, 4, 5, 6, 7, 8, 10, 13]"
      ]
     },
     "execution_count": 39,
     "metadata": {},
     "output_type": "execute_result"
    }
   ],
   "source": [
    "seq = [4, 5, 2, 1, 6, 2, 7, 10, 13, 8]\n",
    "\n",
    "heap_sort(seq)"
   ]
  },
  {
   "cell_type": "code",
   "execution_count": null,
   "metadata": {},
   "outputs": [],
   "source": []
  }
 ],
 "metadata": {
  "kernelspec": {
   "display_name": "Python 3",
   "language": "python",
   "name": "python3"
  },
  "language_info": {
   "codemirror_mode": {
    "name": "ipython",
    "version": 3
   },
   "file_extension": ".py",
   "mimetype": "text/x-python",
   "name": "python",
   "nbconvert_exporter": "python",
   "pygments_lexer": "ipython3",
   "version": "3.6.5"
  }
 },
 "nbformat": 4,
 "nbformat_minor": 4
}
