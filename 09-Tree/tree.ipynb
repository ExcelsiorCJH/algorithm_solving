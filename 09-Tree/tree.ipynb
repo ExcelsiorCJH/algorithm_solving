{
 "cells": [
  {
   "cell_type": "markdown",
   "metadata": {},
   "source": [
    "# Binary Tree"
   ]
  },
  {
   "cell_type": "markdown",
   "metadata": {},
   "source": [
    "```\n",
    "다음 그림의 이진 트리를 구현한다.\n",
    "                              1          ---> 레벨 1\n",
    "                        2           3    ---> 레벨 2\n",
    "                    4       5            ---> 레벨 3\n",
    "                6       7                ---> 레벨 4\n",
    "            8       9                    ---> 레벨 5\n",
    "    \n",
    "    \n",
    "    속성은 다음과 같다.\n",
    "        - 노드의 개수(크기): n = 9\n",
    "        - 분기(또는 내부 노드) 수: b = n-1 = 8\n",
    "        - 루트 노드: 1\n",
    "        - 최대 깊이 또는 높이: h = 4\n",
    "        - 균형 트리입니까? NO\n",
    "        - 이진 탐색 트리입니까? NO\n",
    "```"
   ]
  },
  {
   "cell_type": "code",
   "execution_count": 2,
   "metadata": {},
   "outputs": [],
   "source": [
    "%load_ext lab_black"
   ]
  },
  {
   "cell_type": "code",
   "execution_count": 14,
   "metadata": {},
   "outputs": [],
   "source": [
    "class Node:\n",
    "    def __init__(self, value=None):\n",
    "        self.value = value\n",
    "        self.left = None\n",
    "        self.right = None"
   ]
  },
  {
   "cell_type": "code",
   "execution_count": 30,
   "metadata": {},
   "outputs": [],
   "source": [
    "class BST:\n",
    "    def __init__(self):\n",
    "        self.root = None\n",
    "\n",
    "    # 1) insert\n",
    "    def insert(self, value):\n",
    "        self.root = self._insert_value(self.root, value)\n",
    "        return self.root is not None\n",
    "\n",
    "    def _insert_value(self, node, value):\n",
    "        if not node:\n",
    "            node = Node(value)\n",
    "        elif value <= node.value:\n",
    "            node.left = self._insert_value(node.left, value)\n",
    "        elif value > node.value:\n",
    "            node.right = self._insert_value(node.right, value)\n",
    "        return node\n",
    "\n",
    "    # 2) search\n",
    "    def find(self, key):\n",
    "        return self._find_value(self.root, key)\n",
    "\n",
    "    def _find_value(self, root, key):\n",
    "        if root is None or root.value == key:\n",
    "            return root is not None\n",
    "        elif key < root.value:\n",
    "            return self._find_value(root.left, key)\n",
    "        else:\n",
    "            return self._find_value(root.right, key)\n",
    "\n",
    "    # 3) delete\n",
    "    def delete(self, key):\n",
    "        self.root, deleted = self._delete_value(self.root, key)\n",
    "        return deleted\n",
    "\n",
    "    def _delete_value(self, node, key):\n",
    "        if node is None:\n",
    "            return node, False\n",
    "\n",
    "        deleted = False\n",
    "        if key == node.value:\n",
    "            deleted = True\n",
    "            if node.left and node.right:\n",
    "                # replace the node to the leftmost of node.right\n",
    "                parent, child = node, node.right\n",
    "                while child.left:\n",
    "                    parent, child = child, child.left\n",
    "                child.left = node.left\n",
    "                if parent != node:\n",
    "                    parent.left = child.right\n",
    "                    child.right = node.right\n",
    "                node = child\n",
    "            elif node.left or node.right:\n",
    "                node = node.left or node.right\n",
    "            else:\n",
    "                node = None\n",
    "        elif key < node.value:\n",
    "            node.left, deleted = self._delete_value(node.left, key)\n",
    "        else:\n",
    "            node.right, deleted = self._delete_value(node.right, key)\n",
    "        return node, deleted"
   ]
  },
  {
   "cell_type": "code",
   "execution_count": 33,
   "metadata": {},
   "outputs": [],
   "source": [
    "vals = [40, 4, 34, 45, 14, 55, 48, 13, 15, 49, 47]\n",
    "\n",
    "bst = BST()\n",
    "for val in vals:\n",
    "    bst.insert(val)\n",
    "\n",
    "# Find\n",
    "print(bst.find(15))  # True\n",
    "print(bst.find(17))  # False\n",
    "\n",
    "# Delete\n",
    "print(bst.delete(55))  # True\n",
    "print(bst.delete(14))  # True\n",
    "print(bst.delete(11))  # False"
   ]
  },
  {
   "cell_type": "code",
   "execution_count": null,
   "metadata": {},
   "outputs": [],
   "source": []
  }
 ],
 "metadata": {
  "kernelspec": {
   "display_name": "Python 3",
   "language": "python",
   "name": "python3"
  },
  "language_info": {
   "codemirror_mode": {
    "name": "ipython",
    "version": 3
   },
   "file_extension": ".py",
   "mimetype": "text/x-python",
   "name": "python",
   "nbconvert_exporter": "python",
   "pygments_lexer": "ipython3",
   "version": "3.7.6"
  }
 },
 "nbformat": 4,
 "nbformat_minor": 4
}
