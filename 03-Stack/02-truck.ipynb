{
 "cells": [
  {
   "cell_type": "markdown",
   "metadata": {},
   "source": [
    "# 02 Stack/Queue - 다리를 지나는 트럭"
   ]
  },
  {
   "cell_type": "markdown",
   "metadata": {},
   "source": [
    "### 문제 설명\n",
    "\n",
    "트럭 여러 대가 강을 가로지르는 일 차선 다리를 정해진 순으로 건너려 합니다. 모든 트럭이 다리를 건너려면 최소 몇 초가 걸리는지 알아내야 합니다. 트럭은 1초에 1만큼 움직이며, 다리 길이는 bridge_length이고 다리는 무게 weight까지 견딥니다.\n",
    "※ 트럭이 다리에 완전히 오르지 않은 경우, 이 트럭의 무게는 고려하지 않습니다.\n",
    "\n",
    "예를 들어, 길이가 2이고 10kg 무게를 견디는 다리가 있습니다. 무게가 [7, 4, 5, 6]kg인 트럭이 순서대로 최단 시간 안에 다리를 건너려면 다음과 같이 건너야 합니다.\n",
    "\n",
    "| 경과 시간 | 다리를 지난 트럭 | 다리를 건너는 트럭 | 대기 트럭 |\n",
    "| --------- | ---------------- | ------------------ | --------- |\n",
    "| 0         | []               | []                 | [7,4,5,6] |\n",
    "| 1~2       | []               | [7]                | [4,5,6]   |\n",
    "| 3         | [7]              | [4]                | [5,6]     |\n",
    "| 4         | [7]              | [4,5]              | [6]       |\n",
    "| 5         | [7,4]            | [5]                | [6]       |\n",
    "| 6~7       | [7,4,5]          | [6]                | []        |\n",
    "| 8         | [7,4,5,6]        | []                 | []        |\n",
    "\n",
    "따라서, 모든 트럭이 다리를 지나려면 최소 8초가 걸립니다.\n",
    "\n",
    "solution 함수의 매개변수로 다리 길이 bridge_length, 다리가 견딜 수 있는 무게 weight, 트럭별 무게 truck_weights가 주어집니다. 이때 모든 트럭이 다리를 건너려면 최소 몇 초가 걸리는지 return 하도록 solution 함수를 완성하세요."
   ]
  },
  {
   "cell_type": "markdown",
   "metadata": {},
   "source": [
    "### 제한 조건\n",
    "\n",
    "- bridge_length는 1 이상 10,000 이하입니다.\n",
    "- weight는 1 이상 10,000 이하입니다.\n",
    "- truck_weights의 길이는 1 이상 10,000 이하입니다.\n",
    "- 모든 트럭의 무게는 1 이상 weight 이하입니다."
   ]
  },
  {
   "cell_type": "markdown",
   "metadata": {},
   "source": [
    "### 입출력 예\n",
    "\n",
    "| bridge_length | weight | truck_weights                   | return |\n",
    "| ------------- | ------ | ------------------------------- | ------ |\n",
    "| 2             | 10     | [7,4,5,6]                       | 8      |\n",
    "| 100           | 100    | [10]                            | 101    |\n",
    "| 100           | 100    | [10,10,10,10,10,10,10,10,10,10] | 110    |\n",
    "\n",
    "[출처](http://icpckorea.org/2016/ONLINE/problem.pdf)"
   ]
  },
  {
   "cell_type": "markdown",
   "metadata": {},
   "source": [
    " "
   ]
  },
  {
   "cell_type": "markdown",
   "metadata": {},
   "source": [
    "## 01. My Solution\n",
    "\n",
    "- 틀림... 갈 길이 멀다..."
   ]
  },
  {
   "cell_type": "code",
   "execution_count": 155,
   "metadata": {},
   "outputs": [],
   "source": [
    "bridge_length = 100\n",
    "weight = 100\n",
    "truck_weights = [10]"
   ]
  },
  {
   "cell_type": "code",
   "execution_count": 151,
   "metadata": {},
   "outputs": [],
   "source": [
    "bridge_length = 100\n",
    "weight = 100\n",
    "truck_weights = [10] * 10"
   ]
  },
  {
   "cell_type": "code",
   "execution_count": 147,
   "metadata": {},
   "outputs": [],
   "source": [
    "bridge_length = 2\n",
    "weight = 10\n",
    "truck_weights = [7, 4, 5, 6]"
   ]
  },
  {
   "cell_type": "code",
   "execution_count": 156,
   "metadata": {},
   "outputs": [],
   "source": [
    "answer = 0\n",
    "after_trucks = []\n",
    "ing_trucks = []\n",
    "\n",
    "answer = bridge_length \n",
    "while truck_weights or ing_trucks:\n",
    "    if truck_weights:\n",
    "        if (sum(ing_trucks) + truck_weights[0]) <= weight:\n",
    "            ing_trucks.append(truck_weights.pop(0))\n",
    "        else:\n",
    "            answer += 1\n",
    "    if len(truck_weights) > 1:\n",
    "        if (sum(ing_trucks) + truck_weights[0]) <= weight:\n",
    "            ing_trucks.append(truck_weights.pop(0))\n",
    "        else:\n",
    "            answer += 1\n",
    "    \n",
    "    after_trucks.append(ing_trucks.pop(0))\n",
    "    answer += 1"
   ]
  },
  {
   "cell_type": "code",
   "execution_count": null,
   "metadata": {},
   "outputs": [],
   "source": []
  },
  {
   "cell_type": "code",
   "execution_count": 159,
   "metadata": {},
   "outputs": [],
   "source": [
    "def solution(bridge_length, weight, truck_weights):\n",
    "    after_trucks, ing_trucks = [], []\n",
    "\n",
    "    answer = bridge_length \n",
    "    while truck_weights or ing_trucks:\n",
    "        if truck_weights:\n",
    "            if (sum(ing_trucks) + truck_weights[0]) <= weight:\n",
    "                ing_trucks.append(truck_weights.pop(0))\n",
    "            else:\n",
    "                answer += 1\n",
    "        if len(truck_weights) > 1:\n",
    "            if (sum(ing_trucks) + truck_weights[0]) <= weight:\n",
    "                ing_trucks.append(truck_weights.pop(0))\n",
    "            else:\n",
    "                answer += 1\n",
    "\n",
    "        after_trucks.append(ing_trucks.pop(0))\n",
    "        answer += 1\n",
    "    return answer"
   ]
  },
  {
   "cell_type": "markdown",
   "metadata": {},
   "source": [
    " "
   ]
  },
  {
   "cell_type": "markdown",
   "metadata": {},
   "source": [
    "## 02. Other Solution"
   ]
  },
  {
   "cell_type": "code",
   "execution_count": 160,
   "metadata": {},
   "outputs": [],
   "source": [
    "from collections import deque"
   ]
  },
  {
   "cell_type": "code",
   "execution_count": 170,
   "metadata": {},
   "outputs": [],
   "source": [
    "DUMMY_TRUCK = 0\n",
    "\n",
    "class Bridge(object):\n",
    "    \n",
    "    def __init__(self, length, weight):\n",
    "        self._max_length = length\n",
    "        self._max_weight = weight\n",
    "        self._queue = deque()\n",
    "        self._current_weight = 0\n",
    "    \n",
    "    def push(self, truck):\n",
    "        next_weight = self._current_weight + truck\n",
    "        if next_weight <= self._max_weight and len(self._queue) < self._max_length:\n",
    "            self._queue.append(truck)\n",
    "            self._current_weight = next_weight\n",
    "            return True\n",
    "        else:\n",
    "            return False\n",
    "    \n",
    "    def pop(self):\n",
    "        item = self._queue.popleft()\n",
    "        self._current_weight -= item\n",
    "        return item\n",
    "    \n",
    "    def __len__(self):\n",
    "        return len(self._queue)\n",
    "    \n",
    "    def __repr__(self):\n",
    "        return f'Bridge({self._current_weight}/{self._max_weight} : [{list(self._queue)}])'"
   ]
  },
  {
   "cell_type": "code",
   "execution_count": 180,
   "metadata": {},
   "outputs": [],
   "source": [
    "bridge_length = 2\n",
    "weight = 10\n",
    "truck_weights = [7, 4, 5, 6]"
   ]
  },
  {
   "cell_type": "code",
   "execution_count": 181,
   "metadata": {},
   "outputs": [],
   "source": [
    "bridge = Bridge(bridge_length, weight)\n",
    "trucks = deque(truck_weights)"
   ]
  },
  {
   "cell_type": "code",
   "execution_count": 182,
   "metadata": {},
   "outputs": [
    {
     "name": "stdout",
     "output_type": "stream",
     "text": [
      "Bridge(7/10 : [[0, 7]])\n",
      "Bridge(7/10 : [[7, 0]])\n",
      "Bridge(4/10 : [[0, 4]])\n",
      "Bridge(9/10 : [[4, 5]])\n",
      "Bridge(5/10 : [[5, 0]])\n",
      "Bridge(6/10 : [[0, 6]])\n",
      "Bridge(6/10 : [[6]])\n",
      "Bridge(0/10 : [[]])\n"
     ]
    }
   ],
   "source": [
    "bridge = Bridge(bridge_length, weight)\n",
    "trucks = deque(truck_weights)\n",
    "\n",
    "for _ in range(bridge_length):\n",
    "    bridge.push(DUMMY_TRUCK)\n",
    "\n",
    "count = 0\n",
    "while trucks:\n",
    "    bridge.pop()\n",
    "\n",
    "    if bridge.push(trucks[0]):\n",
    "        trucks.popleft()\n",
    "    else:\n",
    "        bridge.push(DUMMY_TRUCK)\n",
    "\n",
    "    count += 1\n",
    "    print(bridge)\n",
    "\n",
    "while bridge:\n",
    "    bridge.pop()\n",
    "    count += 1\n",
    "    print(bridge)"
   ]
  },
  {
   "cell_type": "code",
   "execution_count": 184,
   "metadata": {},
   "outputs": [],
   "source": [
    "def solution(bridge_length, weight, truck_weights):\n",
    "    bridge = Bridge(bridge_length, weight)\n",
    "    trucks = deque(truck_weights)\n",
    "    \n",
    "    for _ in range(bridge_length):\n",
    "        bridge.push(DUMMY_TRUCK)\n",
    "        \n",
    "    count = 0\n",
    "    while trucks:\n",
    "        bridge.pop()\n",
    "        \n",
    "        if bridge.push(trucks[0]):\n",
    "            trucks.popleft()\n",
    "        else:\n",
    "            bridge.push(DUMMY_TRUCK)\n",
    "        \n",
    "        count += 1\n",
    "    \n",
    "    while bridge:\n",
    "        bridge.pop()\n",
    "        count += 1\n",
    "        \n",
    "    return count"
   ]
  },
  {
   "cell_type": "code",
   "execution_count": 185,
   "metadata": {},
   "outputs": [
    {
     "name": "stdout",
     "output_type": "stream",
     "text": [
      "8 8\n",
      "101 101\n",
      "110 110\n"
     ]
    }
   ],
   "source": [
    "print(solution(2, 10, [7, 4, 5, 6]), 8)\n",
    "print(solution(100, 100, [10]), 101)\n",
    "print(solution(100, 100, [10, 10, 10, 10, 10, 10, 10, 10, 10, 10]), 110)"
   ]
  },
  {
   "cell_type": "code",
   "execution_count": null,
   "metadata": {},
   "outputs": [],
   "source": []
  }
 ],
 "metadata": {
  "kernelspec": {
   "display_name": "Python 3",
   "language": "python",
   "name": "python3"
  },
  "language_info": {
   "codemirror_mode": {
    "name": "ipython",
    "version": 3
   },
   "file_extension": ".py",
   "mimetype": "text/x-python",
   "name": "python",
   "nbconvert_exporter": "python",
   "pygments_lexer": "ipython3",
   "version": "3.7.4"
  }
 },
 "nbformat": 4,
 "nbformat_minor": 4
}
