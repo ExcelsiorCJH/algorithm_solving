{
 "cells": [
  {
   "cell_type": "markdown",
   "metadata": {},
   "source": [
    "# HackerRank"
   ]
  },
  {
   "cell_type": "code",
   "execution_count": null,
   "metadata": {},
   "outputs": [],
   "source": [
    "%load_ext lab_black"
   ]
  },
  {
   "cell_type": "markdown",
   "metadata": {},
   "source": [
    "## Forming a Magic Square"
   ]
  },
  {
   "cell_type": "code",
   "execution_count": 2,
   "metadata": {},
   "outputs": [],
   "source": [
    "import math\n",
    "import os\n",
    "import random\n",
    "import re"
   ]
  },
  {
   "cell_type": "code",
   "execution_count": 11,
   "metadata": {},
   "outputs": [
    {
     "name": "stdin",
     "output_type": "stream",
     "text": [
      " 4 8 2\n",
      " 4 5 7\n",
      " 6 1 6\n"
     ]
    }
   ],
   "source": [
    "s = []\n",
    "\n",
    "for _ in range(3):\n",
    "    s.extend(list(map(int, input().rstrip().split())))"
   ]
  },
  {
   "cell_type": "code",
   "execution_count": 8,
   "metadata": {},
   "outputs": [],
   "source": [
    "# %%time\n",
    "\n",
    "# magic_squares = []\n",
    "# for a in range(1, 10):\n",
    "#     for b in range(1, 10):\n",
    "#         for c in range(1, 10):\n",
    "#             for d in range(1, 10):\n",
    "#                 for e in range(1, 10):\n",
    "#                     for f in range(1, 10):\n",
    "#                         for g in range(1, 10):\n",
    "#                             for h in range(1, 10):\n",
    "#                                 for i in range(1, 10):\n",
    "#                                     if (\n",
    "#                                         a + b + c == 15\n",
    "#                                         and d + e + f == 15\n",
    "#                                         and g + h + i == 15\n",
    "#                                         and a + d + g == 15\n",
    "#                                         and b + e + h == 15\n",
    "#                                         and c + f + i == 15\n",
    "#                                         and a + e + i == 15\n",
    "#                                         and c + e + g == 15\n",
    "#                                         and len(set([a, b, c, d, e, f, g, h, i])) == 9\n",
    "#                                     ):\n",
    "#                                         magic_squares.append(\n",
    "#                                             [a, b, c, d, e, f, g, h, i]\n",
    "#                                         )"
   ]
  },
  {
   "cell_type": "code",
   "execution_count": 9,
   "metadata": {},
   "outputs": [],
   "source": [
    "magic_squares = [\n",
    "    [2, 7, 6, 9, 5, 1, 4, 3, 8],\n",
    "    [2, 9, 4, 7, 5, 3, 6, 1, 8],\n",
    "    [4, 3, 8, 9, 5, 1, 2, 7, 6],\n",
    "    [4, 9, 2, 3, 5, 7, 8, 1, 6],\n",
    "    [6, 1, 8, 7, 5, 3, 2, 9, 4],\n",
    "    [6, 7, 2, 1, 5, 9, 8, 3, 4],\n",
    "    [8, 1, 6, 3, 5, 7, 4, 9, 2],\n",
    "    [8, 3, 4, 1, 5, 9, 6, 7, 2],\n",
    "]"
   ]
  },
  {
   "cell_type": "code",
   "execution_count": 13,
   "metadata": {},
   "outputs": [],
   "source": [
    "costs = []\n",
    "for magic_square in magic_squares:\n",
    "    cost = sum([abs(magic_square[i] - s[i]) for i in range(9)])\n",
    "    costs.append(cost)"
   ]
  },
  {
   "cell_type": "code",
   "execution_count": 15,
   "metadata": {},
   "outputs": [
    {
     "data": {
      "text/plain": [
       "4"
      ]
     },
     "execution_count": 15,
     "metadata": {},
     "output_type": "execute_result"
    }
   ],
   "source": [
    "min(costs)"
   ]
  },
  {
   "cell_type": "code",
   "execution_count": null,
   "metadata": {},
   "outputs": [],
   "source": []
  }
 ],
 "metadata": {
  "kernelspec": {
   "display_name": "Python 3",
   "language": "python",
   "name": "python3"
  },
  "language_info": {
   "codemirror_mode": {
    "name": "ipython",
    "version": 3
   },
   "file_extension": ".py",
   "mimetype": "text/x-python",
   "name": "python",
   "nbconvert_exporter": "python",
   "pygments_lexer": "ipython3",
   "version": "3.7.6"
  }
 },
 "nbformat": 4,
 "nbformat_minor": 4
}
