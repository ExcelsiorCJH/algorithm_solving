{
 "cells": [
  {
   "cell_type": "markdown",
   "metadata": {},
   "source": [
    "# HackerRank"
   ]
  },
  {
   "cell_type": "code",
   "execution_count": 1,
   "metadata": {},
   "outputs": [],
   "source": [
    "%load_ext lab_black"
   ]
  },
  {
   "cell_type": "markdown",
   "metadata": {},
   "source": [
    "## Forming a Magic Square"
   ]
  },
  {
   "cell_type": "code",
   "execution_count": 2,
   "metadata": {},
   "outputs": [],
   "source": [
    "import math\n",
    "import os\n",
    "import random\n",
    "import re"
   ]
  },
  {
   "cell_type": "code",
   "execution_count": 11,
   "metadata": {},
   "outputs": [
    {
     "name": "stdin",
     "output_type": "stream",
     "text": [
      " 4 8 2\n",
      " 4 5 7\n",
      " 6 1 6\n"
     ]
    }
   ],
   "source": [
    "s = []\n",
    "\n",
    "for _ in range(3):\n",
    "    s.extend(list(map(int, input().rstrip().split())))"
   ]
  },
  {
   "cell_type": "code",
   "execution_count": 8,
   "metadata": {},
   "outputs": [],
   "source": [
    "# %%time\n",
    "\n",
    "# magic_squares = []\n",
    "# for a in range(1, 10):\n",
    "#     for b in range(1, 10):\n",
    "#         for c in range(1, 10):\n",
    "#             for d in range(1, 10):\n",
    "#                 for e in range(1, 10):\n",
    "#                     for f in range(1, 10):\n",
    "#                         for g in range(1, 10):\n",
    "#                             for h in range(1, 10):\n",
    "#                                 for i in range(1, 10):\n",
    "#                                     if (\n",
    "#                                         a + b + c == 15\n",
    "#                                         and d + e + f == 15\n",
    "#                                         and g + h + i == 15\n",
    "#                                         and a + d + g == 15\n",
    "#                                         and b + e + h == 15\n",
    "#                                         and c + f + i == 15\n",
    "#                                         and a + e + i == 15\n",
    "#                                         and c + e + g == 15\n",
    "#                                         and len(set([a, b, c, d, e, f, g, h, i])) == 9\n",
    "#                                     ):\n",
    "#                                         magic_squares.append(\n",
    "#                                             [a, b, c, d, e, f, g, h, i]\n",
    "#                                         )"
   ]
  },
  {
   "cell_type": "code",
   "execution_count": 9,
   "metadata": {},
   "outputs": [],
   "source": [
    "magic_squares = [\n",
    "    [2, 7, 6, 9, 5, 1, 4, 3, 8],\n",
    "    [2, 9, 4, 7, 5, 3, 6, 1, 8],\n",
    "    [4, 3, 8, 9, 5, 1, 2, 7, 6],\n",
    "    [4, 9, 2, 3, 5, 7, 8, 1, 6],\n",
    "    [6, 1, 8, 7, 5, 3, 2, 9, 4],\n",
    "    [6, 7, 2, 1, 5, 9, 8, 3, 4],\n",
    "    [8, 1, 6, 3, 5, 7, 4, 9, 2],\n",
    "    [8, 3, 4, 1, 5, 9, 6, 7, 2],\n",
    "]"
   ]
  },
  {
   "cell_type": "code",
   "execution_count": 13,
   "metadata": {},
   "outputs": [],
   "source": [
    "costs = []\n",
    "for magic_square in magic_squares:\n",
    "    cost = sum([abs(magic_square[i] - s[i]) for i in range(9)])\n",
    "    costs.append(cost)"
   ]
  },
  {
   "cell_type": "code",
   "execution_count": 15,
   "metadata": {},
   "outputs": [
    {
     "data": {
      "text/plain": [
       "4"
      ]
     },
     "execution_count": 15,
     "metadata": {},
     "output_type": "execute_result"
    }
   ],
   "source": [
    "min(costs)"
   ]
  },
  {
   "cell_type": "markdown",
   "metadata": {},
   "source": [
    " "
   ]
  },
  {
   "cell_type": "markdown",
   "metadata": {},
   "source": [
    "## Diagonal Difference - Easy"
   ]
  },
  {
   "cell_type": "code",
   "execution_count": 3,
   "metadata": {},
   "outputs": [
    {
     "name": "stdin",
     "output_type": "stream",
     "text": [
      " 3\n",
      " 11 2 4\n",
      " 4 5 6\n",
      " 10 8 -12\n"
     ]
    }
   ],
   "source": [
    "n = int(input().strip())\n",
    "\n",
    "arr = []\n",
    "\n",
    "for _ in range(n):\n",
    "    arr.append(list(map(int, input().rstrip().split())))"
   ]
  },
  {
   "cell_type": "code",
   "execution_count": 12,
   "metadata": {},
   "outputs": [],
   "source": [
    "right, left = [], []\n",
    "for i in range(n):\n",
    "    for j in range(n):\n",
    "        if i == j:\n",
    "            right.append(arr[i][j])"
   ]
  },
  {
   "cell_type": "code",
   "execution_count": 13,
   "metadata": {},
   "outputs": [
    {
     "data": {
      "text/plain": [
       "[11, 5, -12]"
      ]
     },
     "execution_count": 13,
     "metadata": {},
     "output_type": "execute_result"
    }
   ],
   "source": [
    "right"
   ]
  },
  {
   "cell_type": "code",
   "execution_count": 15,
   "metadata": {},
   "outputs": [
    {
     "name": "stdout",
     "output_type": "stream",
     "text": [
      "0 2\n",
      "1 1\n",
      "2 0\n"
     ]
    }
   ],
   "source": [
    "for i, j in zip(range(n), range(n - 1, -1, -1)):\n",
    "    print(i, j)"
   ]
  },
  {
   "cell_type": "markdown",
   "metadata": {},
   "source": [
    " "
   ]
  },
  {
   "cell_type": "markdown",
   "metadata": {},
   "source": [
    "## Non-Divisible Subset"
   ]
  },
  {
   "cell_type": "code",
   "execution_count": 8,
   "metadata": {},
   "outputs": [],
   "source": [
    "from itertools import combinations"
   ]
  },
  {
   "cell_type": "code",
   "execution_count": 25,
   "metadata": {},
   "outputs": [
    {
     "name": "stdin",
     "output_type": "stream",
     "text": [
      " 7 4\n",
      " 19 10 12 10 24 25 22\n"
     ]
    }
   ],
   "source": [
    "first_multiple_input = input().rstrip().split()\n",
    "\n",
    "n = int(first_multiple_input[0])\n",
    "\n",
    "k = int(first_multiple_input[1])\n",
    "\n",
    "s = list(map(int, input().rstrip().split()))"
   ]
  },
  {
   "cell_type": "code",
   "execution_count": 90,
   "metadata": {},
   "outputs": [],
   "source": [
    "count = [0] * k"
   ]
  },
  {
   "cell_type": "code",
   "execution_count": 91,
   "metadata": {},
   "outputs": [],
   "source": [
    "for x in s:\n",
    "    remainder = x % k\n",
    "    count[remainder] += 1"
   ]
  },
  {
   "cell_type": "code",
   "execution_count": 93,
   "metadata": {},
   "outputs": [
    {
     "data": {
      "text/plain": [
       "[2, 1, 3, 1]"
      ]
     },
     "execution_count": 93,
     "metadata": {},
     "output_type": "execute_result"
    }
   ],
   "source": [
    "count"
   ]
  },
  {
   "cell_type": "markdown",
   "metadata": {},
   "source": [
    " "
   ]
  },
  {
   "cell_type": "markdown",
   "metadata": {},
   "source": [
    "## Organizing Containers of Balls"
   ]
  },
  {
   "cell_type": "code",
   "execution_count": 114,
   "metadata": {},
   "outputs": [],
   "source": [
    "from collections import Counter"
   ]
  },
  {
   "cell_type": "code",
   "execution_count": 125,
   "metadata": {},
   "outputs": [
    {
     "name": "stdin",
     "output_type": "stream",
     "text": [
      " 1\n",
      " 3\n",
      " 0 2 1\n",
      " 1 1 1\n",
      " 2 0 0\n"
     ]
    }
   ],
   "source": [
    "q = int(input())\n",
    "\n",
    "for q_itr in range(q):\n",
    "    n = int(input())\n",
    "\n",
    "    container = []\n",
    "\n",
    "    for _ in range(n):\n",
    "        container.append(list(map(int, input().rstrip().split())))"
   ]
  },
  {
   "cell_type": "code",
   "execution_count": 126,
   "metadata": {},
   "outputs": [],
   "source": [
    "list1 = [sum(row) for row in container]\n",
    "list2 = [0] * len(container[0])"
   ]
  },
  {
   "cell_type": "code",
   "execution_count": 127,
   "metadata": {},
   "outputs": [
    {
     "data": {
      "text/plain": [
       "([3, 3, 2], [0, 0, 0])"
      ]
     },
     "execution_count": 127,
     "metadata": {},
     "output_type": "execute_result"
    }
   ],
   "source": [
    "list1, list2"
   ]
  },
  {
   "cell_type": "code",
   "execution_count": 128,
   "metadata": {},
   "outputs": [
    {
     "name": "stdout",
     "output_type": "stream",
     "text": [
      "[0, 0, 0]\n",
      "[1, 0, 0]\n",
      "[3, 0, 0]\n",
      "[3, 2, 0]\n",
      "[3, 3, 0]\n",
      "[3, 3, 0]\n",
      "[3, 3, 1]\n",
      "[3, 3, 2]\n",
      "[3, 3, 2]\n"
     ]
    }
   ],
   "source": [
    "for j in range(len(container[0])):\n",
    "    for i in range(len(container)):\n",
    "        list2[j] += container[i][j]\n",
    "        print(list2)"
   ]
  },
  {
   "cell_type": "code",
   "execution_count": 124,
   "metadata": {},
   "outputs": [
    {
     "data": {
      "text/plain": [
       "[[1, 3, 1], [2, 1, 2], [3, 3, 3]]"
      ]
     },
     "execution_count": 124,
     "metadata": {},
     "output_type": "execute_result"
    }
   ],
   "source": [
    "container"
   ]
  },
  {
   "cell_type": "code",
   "execution_count": 122,
   "metadata": {},
   "outputs": [
    {
     "data": {
      "text/plain": [
       "Counter({5: 2, 9: 1})"
      ]
     },
     "execution_count": 122,
     "metadata": {},
     "output_type": "execute_result"
    }
   ],
   "source": [
    "Counter(list1)"
   ]
  },
  {
   "cell_type": "code",
   "execution_count": 123,
   "metadata": {},
   "outputs": [
    {
     "data": {
      "text/plain": [
       "Counter({6: 2, 7: 1})"
      ]
     },
     "execution_count": 123,
     "metadata": {},
     "output_type": "execute_result"
    }
   ],
   "source": [
    "Counter(list2)"
   ]
  },
  {
   "cell_type": "markdown",
   "metadata": {},
   "source": [
    " "
   ]
  },
  {
   "cell_type": "markdown",
   "metadata": {},
   "source": [
    "## Encryption"
   ]
  },
  {
   "cell_type": "code",
   "execution_count": 131,
   "metadata": {},
   "outputs": [],
   "source": [
    "import math"
   ]
  },
  {
   "cell_type": "code",
   "execution_count": 233,
   "metadata": {},
   "outputs": [
    {
     "name": "stdin",
     "output_type": "stream",
     "text": [
      " roqfqeylxuyxjfyqterizzkhgvngapvudnztsxeprfp\n"
     ]
    }
   ],
   "source": [
    "s = input()"
   ]
  },
  {
   "cell_type": "code",
   "execution_count": 248,
   "metadata": {},
   "outputs": [],
   "source": [
    "s_sqrt = math.sqrt(len(s))\n",
    "\n",
    "ncol = math.ceil(s_sqrt)\n",
    "nrow = math.floor(s_sqrt)"
   ]
  },
  {
   "cell_type": "code",
   "execution_count": 249,
   "metadata": {},
   "outputs": [
    {
     "data": {
      "text/plain": [
       "44"
      ]
     },
     "execution_count": 249,
     "metadata": {},
     "output_type": "execute_result"
    }
   ],
   "source": [
    "len(s)"
   ]
  },
  {
   "cell_type": "code",
   "execution_count": 250,
   "metadata": {},
   "outputs": [
    {
     "data": {
      "text/plain": [
       "42"
      ]
     },
     "execution_count": 250,
     "metadata": {},
     "output_type": "execute_result"
    }
   ],
   "source": [
    "ncol * nrow"
   ]
  },
  {
   "cell_type": "code",
   "execution_count": 251,
   "metadata": {},
   "outputs": [],
   "source": [
    "if nrow * ncol < len(s):\n",
    "    #     s += \" \" * (len(s) - nrow * ncol)\n",
    "    nrow += 1\n",
    "\n",
    "# elif nrow * ncol > len(s):\n",
    "#     s += \" \" * (nrow * ncol - len(s))"
   ]
  },
  {
   "cell_type": "code",
   "execution_count": 255,
   "metadata": {},
   "outputs": [],
   "source": [
    "M = []\n",
    "start = 0\n",
    "for i in range(nrow):\n",
    "    chars = s[start : ncol * (i + 1)]\n",
    "    M.append(chars)\n",
    "    start += ncol"
   ]
  },
  {
   "cell_type": "code",
   "execution_count": 257,
   "metadata": {},
   "outputs": [],
   "source": [
    "if len(M[-1]) < len(M[-2]):\n",
    "    M[-1] += \" \" * (len(M[-2]) - len(M[-1]))"
   ]
  },
  {
   "cell_type": "code",
   "execution_count": 258,
   "metadata": {},
   "outputs": [],
   "source": [
    "MT = []\n",
    "for j in range(ncol):\n",
    "    tmp = \"\"\n",
    "    for i in range(nrow):\n",
    "        tmp += M[i][j]\n",
    "    MT.append(tmp.strip())"
   ]
  },
  {
   "cell_type": "code",
   "execution_count": 259,
   "metadata": {},
   "outputs": [
    {
     "data": {
      "text/plain": [
       "'rlyzatp oxqkps quthvx fyegue qxrvdp ejinnr yfzgzf'"
      ]
     },
     "execution_count": 259,
     "metadata": {},
     "output_type": "execute_result"
    }
   ],
   "source": [
    "\" \".join(MT)"
   ]
  },
  {
   "cell_type": "markdown",
   "metadata": {},
   "source": [
    " "
   ]
  },
  {
   "cell_type": "markdown",
   "metadata": {},
   "source": [
    "## Bigger is Greater - Re"
   ]
  },
  {
   "cell_type": "code",
   "execution_count": 336,
   "metadata": {},
   "outputs": [
    {
     "name": "stdin",
     "output_type": "stream",
     "text": [
      " abcfdda\n"
     ]
    }
   ],
   "source": [
    "w = input()"
   ]
  },
  {
   "cell_type": "code",
   "execution_count": 337,
   "metadata": {},
   "outputs": [],
   "source": [
    "w = list(w)"
   ]
  },
  {
   "cell_type": "code",
   "execution_count": 338,
   "metadata": {},
   "outputs": [],
   "source": [
    "# find non-increasing suffix\n",
    "i = len(w) - 1\n",
    "while i > 0 and w[i - 1] >= w[i]:\n",
    "    i -= 1"
   ]
  },
  {
   "cell_type": "code",
   "execution_count": 339,
   "metadata": {},
   "outputs": [
    {
     "data": {
      "text/plain": [
       "3"
      ]
     },
     "execution_count": 339,
     "metadata": {},
     "output_type": "execute_result"
    }
   ],
   "source": [
    "i"
   ]
  },
  {
   "cell_type": "code",
   "execution_count": 340,
   "metadata": {},
   "outputs": [],
   "source": [
    "if i <= 0:\n",
    "    print(\"no answer\")"
   ]
  },
  {
   "cell_type": "code",
   "execution_count": 341,
   "metadata": {},
   "outputs": [],
   "source": [
    "j = len(w) - 1\n",
    "while w[j] <= w[i - 1]:\n",
    "    j -= 1"
   ]
  },
  {
   "cell_type": "code",
   "execution_count": 342,
   "metadata": {},
   "outputs": [
    {
     "data": {
      "text/plain": [
       "5"
      ]
     },
     "execution_count": 342,
     "metadata": {},
     "output_type": "execute_result"
    }
   ],
   "source": [
    "j"
   ]
  },
  {
   "cell_type": "code",
   "execution_count": 343,
   "metadata": {},
   "outputs": [],
   "source": [
    "w[i - 1], w[j] = w[j], w[i - 1]"
   ]
  },
  {
   "cell_type": "code",
   "execution_count": 345,
   "metadata": {},
   "outputs": [],
   "source": [
    "w[i:] = w[len(w) - 1 : i - 1 : -1]"
   ]
  },
  {
   "cell_type": "code",
   "execution_count": 346,
   "metadata": {},
   "outputs": [
    {
     "data": {
      "text/plain": [
       "['a', 'b', 'd', 'a', 'c', 'd', 'f']"
      ]
     },
     "execution_count": 346,
     "metadata": {},
     "output_type": "execute_result"
    }
   ],
   "source": [
    "w"
   ]
  },
  {
   "cell_type": "markdown",
   "metadata": {},
   "source": [
    " "
   ]
  },
  {
   "cell_type": "markdown",
   "metadata": {},
   "source": [
    "## The Time in Words"
   ]
  },
  {
   "cell_type": "code",
   "execution_count": 347,
   "metadata": {},
   "outputs": [],
   "source": [
    "import time"
   ]
  },
  {
   "cell_type": "code",
   "execution_count": 348,
   "metadata": {},
   "outputs": [
    {
     "name": "stdin",
     "output_type": "stream",
     "text": [
      " 5\n",
      " 14\n"
     ]
    }
   ],
   "source": [
    "h = int(input())\n",
    "\n",
    "m = int(input())"
   ]
  },
  {
   "cell_type": "markdown",
   "metadata": {},
   "source": [
    " "
   ]
  },
  {
   "cell_type": "markdown",
   "metadata": {},
   "source": [
    "## The Grid Search"
   ]
  },
  {
   "cell_type": "code",
   "execution_count": 4,
   "metadata": {},
   "outputs": [],
   "source": [
    "import re"
   ]
  },
  {
   "cell_type": "code",
   "execution_count": 3,
   "metadata": {},
   "outputs": [
    {
     "name": "stdin",
     "output_type": "stream",
     "text": [
      " 10 10\n",
      " 7283455864\n",
      " 6731158619\n",
      " 8988242643\n",
      " 3830589324\n",
      " 2229505813\n",
      " 5633845374\n",
      " 6473530293\n",
      " 7053106601\n",
      " 0834282956\n",
      " 4607924137\n",
      " 3 4\n",
      " 9505\n",
      " 3845\n",
      " 3530\n"
     ]
    }
   ],
   "source": [
    "RC = input().split()\n",
    "\n",
    "R = int(RC[0])\n",
    "\n",
    "C = int(RC[1])\n",
    "\n",
    "G = []\n",
    "\n",
    "for _ in range(R):\n",
    "    G_item = input()\n",
    "    G.append(G_item)\n",
    "\n",
    "rc = input().split()\n",
    "\n",
    "r = int(rc[0])\n",
    "\n",
    "c = int(rc[1])\n",
    "\n",
    "P = []\n",
    "\n",
    "for _ in range(r):\n",
    "    P_item = input()\n",
    "    P.append(P_item)"
   ]
  },
  {
   "cell_type": "code",
   "execution_count": 5,
   "metadata": {},
   "outputs": [],
   "source": [
    "l = len(P)\n",
    "m = len(P[0])"
   ]
  },
  {
   "cell_type": "code",
   "execution_count": 51,
   "metadata": {},
   "outputs": [],
   "source": [
    "def gridSearch(G, P):\n",
    "    l = len(P)\n",
    "    m = len(P[0])\n",
    "\n",
    "    for r_idx, row in enumerate(G):\n",
    "        for i in ((m.start(0)) for m in re.finditer(P[0], row)):\n",
    "            for x in range(1, l):\n",
    "                if G[x + r_idx][i : i + m] != P[x]:\n",
    "                    break\n",
    "            else:\n",
    "                return \"YES\"\n",
    "\n",
    "    return \"NO\""
   ]
  },
  {
   "cell_type": "code",
   "execution_count": 52,
   "metadata": {},
   "outputs": [
    {
     "data": {
      "text/plain": [
       "'YES'"
      ]
     },
     "execution_count": 52,
     "metadata": {},
     "output_type": "execute_result"
    }
   ],
   "source": [
    "gridSearch(G, P)"
   ]
  },
  {
   "cell_type": "code",
   "execution_count": 19,
   "metadata": {},
   "outputs": [
    {
     "data": {
      "text/plain": [
       "[3]"
      ]
     },
     "execution_count": 19,
     "metadata": {},
     "output_type": "execute_result"
    }
   ],
   "source": [
    "list(m.start() for m in re.finditer(P[0], G[4]))"
   ]
  },
  {
   "cell_type": "code",
   "execution_count": 27,
   "metadata": {},
   "outputs": [],
   "source": [
    "m = list(re.finditer(P[0], G[4]))"
   ]
  },
  {
   "cell_type": "code",
   "execution_count": 28,
   "metadata": {},
   "outputs": [],
   "source": [
    "m = m[0]"
   ]
  },
  {
   "cell_type": "code",
   "execution_count": 31,
   "metadata": {},
   "outputs": [
    {
     "data": {
      "text/plain": [
       "3"
      ]
     },
     "execution_count": 31,
     "metadata": {},
     "output_type": "execute_result"
    }
   ],
   "source": [
    "m.start()"
   ]
  },
  {
   "cell_type": "code",
   "execution_count": null,
   "metadata": {},
   "outputs": [],
   "source": []
  }
 ],
 "metadata": {
  "kernelspec": {
   "display_name": "Python 3",
   "language": "python",
   "name": "python3"
  },
  "language_info": {
   "codemirror_mode": {
    "name": "ipython",
    "version": 3
   },
   "file_extension": ".py",
   "mimetype": "text/x-python",
   "name": "python",
   "nbconvert_exporter": "python",
   "pygments_lexer": "ipython3",
   "version": "3.7.6"
  }
 },
 "nbformat": 4,
 "nbformat_minor": 4
}
