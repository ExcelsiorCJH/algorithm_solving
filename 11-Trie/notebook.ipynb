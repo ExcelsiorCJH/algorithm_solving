{
 "cells": [
  {
   "cell_type": "markdown",
   "metadata": {},
   "source": [
    "# 11 - Trie"
   ]
  },
  {
   "cell_type": "code",
   "execution_count": 1,
   "metadata": {},
   "outputs": [
    {
     "name": "stdout",
     "output_type": "stream",
     "text": [
      "True\n",
      "True\n",
      "False\n",
      "False\n",
      "['romulus', 'romanus', 'romane']\n",
      "['ruber', 'ruben', 'rubens']\n"
     ]
    }
   ],
   "source": [
    "class Node(object):\n",
    "    \"\"\"\n",
    "    A single node of a trie.\n",
    "    \n",
    "    Children of nodes are defined in a dictionary\n",
    "    where each (key, value) pair is in the form of\n",
    "    (Node.key, Node() object).\n",
    "    \"\"\"\n",
    "    def __init__(self, key, data=None):\n",
    "        self.key = key\n",
    "        self.data = data # data is set to None if node is not the final char of string\n",
    "        self.children = {}\n",
    "        \n",
    "class Trie(object):\n",
    "    \"\"\"\n",
    "    A simple Trie with insert, search, and starts_with methods.\n",
    "    \"\"\"\n",
    "    def __init__(self):\n",
    "        self.head = Node(None)\n",
    "    \n",
    "    \"\"\"\n",
    "    Inserts string in the trie.\n",
    "    \"\"\"\n",
    "    def insert(self, string):\n",
    "        curr_node = self.head\n",
    "        \n",
    "        for char in string:\n",
    "            if char not in curr_node.children:\n",
    "                curr_node.children[char] = Node(char)\n",
    "                \n",
    "            curr_node = curr_node.children[char]\n",
    "            \n",
    "        # When we have reached the end of the string, set the curr_node's data to string.\n",
    "        # This also denotes that curr_node represents the final character of string.\n",
    "        curr_node.data = string\n",
    "    \n",
    "    \n",
    "    \"\"\"\n",
    "    Returns if string exists in the trie\n",
    "    \"\"\"\n",
    "    def search(self, string):\n",
    "        curr_node = self.head\n",
    "        \n",
    "        for char in string:\n",
    "            if char in curr_node.children:\n",
    "                curr_node = curr_node.children[char]\n",
    "            else:\n",
    "                return False\n",
    "            \n",
    "        # Reached the end of string,\n",
    "        # If curr_node has data (i.e. curr_node is not None), string exists in the trie\n",
    "        if (curr_node.data != None):\n",
    "            return True\n",
    "    \n",
    "    \"\"\"\n",
    "    Returns a list of words in the trie\n",
    "    that starts with the given prefix.\n",
    "    \"\"\"\n",
    "    def starts_with(self, prefix):\n",
    "        curr_node = self.head\n",
    "        result = []\n",
    "        subtrie = None\n",
    "        \n",
    "        # Locate the prefix in the trie,\n",
    "        # and make subtrie point to prefix's last character Node\n",
    "        for char in prefix:\n",
    "            if char in curr_node.children:\n",
    "                curr_node = curr_node.children[char]\n",
    "                subtrie = curr_node\n",
    "            else:\n",
    "                return None\n",
    "            \n",
    "        # Using BFS, traverse through the prefix subtrie,\n",
    "        # and look for nodes with non-null data fields.\n",
    "        queue = list(subtrie.children.values())\n",
    "        \n",
    "        while queue:\n",
    "            curr = queue.pop()\n",
    "            if curr.data != None:\n",
    "                result.append(curr.data)\n",
    "            \n",
    "            queue += list(curr.children.values())\n",
    "                \n",
    "        return result\n",
    "        \n",
    "        \n",
    "# Test\n",
    "t = Trie()\n",
    "words = [\"romane\", \"romanus\", \"romulus\", \"ruben\", 'rubens', 'ruber', 'rubicon', 'ruler']\n",
    "for word in words:\n",
    "    t.insert(word)\n",
    "\n",
    "print(t.search(\"romulus\"))\n",
    "print(t.search(\"ruler\"))\n",
    "print(t.search(\"rulere\"))\n",
    "print(t.search(\"romunus\"))\n",
    "print(t.starts_with(\"ro\"))\n",
    "print(t.starts_with(\"rube\"))"
   ]
  },
  {
   "cell_type": "code",
   "execution_count": 118,
   "metadata": {},
   "outputs": [],
   "source": [
    "\"\"\"\n",
    "Trie 구현\n",
    "\n",
    "Trie trie = new Trie();\n",
    "\n",
    "trie.insert(\"apple\");\n",
    "trie.search(\"apple\");   // returns true\n",
    "trie.search(\"app\");     // returns false\n",
    "trie.startsWith(\"app\"); // returns true\n",
    "trie.insert(\"app\");   \n",
    "trie.search(\"app\");     // returns true\n",
    "\"\"\"\n",
    "\n",
    "from collections import defaultdict, deque\n",
    "from typing import Union, List\n",
    "\n",
    "class TrieNode:\n",
    "    def __init__(self, data=None):\n",
    "        self.data = data\n",
    "        self.word = False\n",
    "        self.children = defaultdict(TrieNode)\n",
    "\n",
    "\n",
    "class Trie:\n",
    "    def __init__(self):\n",
    "        self.root = TrieNode()\n",
    "\n",
    "    # 단어 삽입\n",
    "    def insert(self, word: str) -> None:\n",
    "        node = self.root\n",
    "        for char in word:\n",
    "            node.data = char\n",
    "            node = node.children[char]\n",
    "        node.word = True\n",
    "        return None\n",
    "\n",
    "    # 단어 존재 여부 판별\n",
    "    def search(self, word: str) -> bool:\n",
    "        node = self.root\n",
    "        for char in word:\n",
    "            if char not in node.children:\n",
    "                return False\n",
    "            node = node.children[char]\n",
    "        \n",
    "        return node.word\n",
    "\n",
    "    # 문자열로 시작 단어 존재 여부 판별\n",
    "    def starts_with(self, prefix: str) -> Union[List[str], bool]:\n",
    "        node = self.root\n",
    "        words = []\n",
    "        for char in prefix:\n",
    "            if char not in node.children:\n",
    "                return False\n",
    "            node = node.children[char]\n",
    "        \n",
    "        # Using BFS, traverse through the prefix subtrie,\n",
    "        # and look for nodes with non-null data fields.\n",
    "        queue = deque(list(node.children.values()))\n",
    "        print(queue)\n",
    "        \n",
    "        while queue:\n",
    "            curr = queue.popleft()\n",
    "            print(curr.data)\n",
    "            if curr.data:\n",
    "                words.append(curr.data)\n",
    "            \n",
    "            queue += list(curr.children.values())\n",
    "        \n",
    "        return words, True"
   ]
  },
  {
   "cell_type": "code",
   "execution_count": 119,
   "metadata": {},
   "outputs": [],
   "source": [
    "trie = Trie();"
   ]
  },
  {
   "cell_type": "code",
   "execution_count": 120,
   "metadata": {},
   "outputs": [],
   "source": [
    "trie.insert(\"apple\") "
   ]
  },
  {
   "cell_type": "code",
   "execution_count": 121,
   "metadata": {},
   "outputs": [
    {
     "data": {
      "text/plain": [
       "True"
      ]
     },
     "execution_count": 121,
     "metadata": {},
     "output_type": "execute_result"
    }
   ],
   "source": [
    "trie.search(\"apple\")      "
   ]
  },
  {
   "cell_type": "code",
   "execution_count": 122,
   "metadata": {},
   "outputs": [
    {
     "data": {
      "text/plain": [
       "False"
      ]
     },
     "execution_count": 122,
     "metadata": {},
     "output_type": "execute_result"
    }
   ],
   "source": [
    "trie.search(\"app\")    "
   ]
  },
  {
   "cell_type": "code",
   "execution_count": 123,
   "metadata": {},
   "outputs": [
    {
     "name": "stdout",
     "output_type": "stream",
     "text": [
      "deque([<__main__.TrieNode object at 0x0000023F14E19648>])\n",
      "e\n",
      "None\n"
     ]
    },
    {
     "data": {
      "text/plain": [
       "(['e'], True)"
      ]
     },
     "execution_count": 123,
     "metadata": {},
     "output_type": "execute_result"
    }
   ],
   "source": [
    "trie.starts_with(\"app\")"
   ]
  },
  {
   "cell_type": "code",
   "execution_count": 116,
   "metadata": {},
   "outputs": [],
   "source": [
    "trie.insert(\"app\")"
   ]
  },
  {
   "cell_type": "code",
   "execution_count": 117,
   "metadata": {},
   "outputs": [
    {
     "data": {
      "text/plain": [
       "True"
      ]
     },
     "execution_count": 117,
     "metadata": {},
     "output_type": "execute_result"
    }
   ],
   "source": [
    "trie.search(\"app\") "
   ]
  },
  {
   "cell_type": "code",
   "execution_count": 81,
   "metadata": {},
   "outputs": [
    {
     "data": {
      "text/plain": [
       "True"
      ]
     },
     "execution_count": 81,
     "metadata": {},
     "output_type": "execute_result"
    }
   ],
   "source": [
    "trie.search(\"apple\")   "
   ]
  },
  {
   "cell_type": "code",
   "execution_count": null,
   "metadata": {},
   "outputs": [],
   "source": []
  }
 ],
 "metadata": {
  "kernelspec": {
   "display_name": "Python 3",
   "language": "python",
   "name": "python3"
  },
  "language_info": {
   "codemirror_mode": {
    "name": "ipython",
    "version": 3
   },
   "file_extension": ".py",
   "mimetype": "text/x-python",
   "name": "python",
   "nbconvert_exporter": "python",
   "pygments_lexer": "ipython3",
   "version": "3.7.6"
  }
 },
 "nbformat": 4,
 "nbformat_minor": 4
}
