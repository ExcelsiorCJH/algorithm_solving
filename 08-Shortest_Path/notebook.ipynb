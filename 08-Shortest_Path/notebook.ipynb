{
 "cells": [
  {
   "cell_type": "markdown",
   "metadata": {},
   "source": [
    "# Shortest Path Problem"
   ]
  },
  {
   "cell_type": "markdown",
   "metadata": {},
   "source": [
    "## imports"
   ]
  },
  {
   "cell_type": "code",
   "execution_count": 1,
   "metadata": {},
   "outputs": [],
   "source": [
    "%load_ext lab_black"
   ]
  },
  {
   "cell_type": "code",
   "execution_count": 3,
   "metadata": {},
   "outputs": [],
   "source": [
    "from typing import List"
   ]
  },
  {
   "cell_type": "markdown",
   "metadata": {},
   "source": [
    " "
   ]
  },
  {
   "cell_type": "markdown",
   "metadata": {},
   "source": [
    "## Heapq module"
   ]
  },
  {
   "cell_type": "code",
   "execution_count": 16,
   "metadata": {},
   "outputs": [],
   "source": [
    "import heapq"
   ]
  },
  {
   "cell_type": "code",
   "execution_count": 28,
   "metadata": {},
   "outputs": [
    {
     "name": "stdout",
     "output_type": "stream",
     "text": [
      "[(1, 2), (0, 3), (1, 5), (2, 1)]\n"
     ]
    },
    {
     "data": {
      "text/plain": [
       "(1, 2)"
      ]
     },
     "execution_count": 28,
     "metadata": {},
     "output_type": "execute_result"
    }
   ],
   "source": [
    "Q = [(1, 2), (0, 3), (1, 5), (2, 1)]\n",
    "# heapq.heapify(Q)\n",
    "\n",
    "print(Q)\n",
    "heapq.heappop(Q)"
   ]
  },
  {
   "cell_type": "code",
   "execution_count": 29,
   "metadata": {},
   "outputs": [],
   "source": [
    "heapq.heappush(Q, (0, 0))"
   ]
  },
  {
   "cell_type": "code",
   "execution_count": 30,
   "metadata": {},
   "outputs": [
    {
     "data": {
      "text/plain": [
       "[(0, 0), (0, 3), (1, 5), (2, 1)]"
      ]
     },
     "execution_count": 30,
     "metadata": {},
     "output_type": "execute_result"
    }
   ],
   "source": [
    "Q"
   ]
  },
  {
   "cell_type": "code",
   "execution_count": 31,
   "metadata": {},
   "outputs": [
    {
     "data": {
      "text/plain": [
       "[(0, 0), (0, 3), (1, 5), (2, 1), (1, 1)]"
      ]
     },
     "execution_count": 31,
     "metadata": {},
     "output_type": "execute_result"
    }
   ],
   "source": [
    "heapq.heappush(Q, (1, 1))\n",
    "Q"
   ]
  },
  {
   "cell_type": "markdown",
   "metadata": {},
   "source": [
    "## 743. Network Delay Time"
   ]
  },
  {
   "cell_type": "markdown",
   "metadata": {},
   "source": [
    "```\n",
    "Input: times = [[2,1,1],[2,3,1],[3,4,1]], N = 4, K = 2\n",
    "Output: 2\n",
    "```"
   ]
  },
  {
   "cell_type": "code",
   "execution_count": 3,
   "metadata": {},
   "outputs": [],
   "source": [
    "import heapq\n",
    "from collections import defaultdict"
   ]
  },
  {
   "cell_type": "code",
   "execution_count": 4,
   "metadata": {},
   "outputs": [],
   "source": [
    "times = [[2, 1, 1], [2, 3, 1], [3, 4, 1]]\n",
    "N = 4\n",
    "K = 2"
   ]
  },
  {
   "cell_type": "code",
   "execution_count": 5,
   "metadata": {},
   "outputs": [],
   "source": [
    "graph = defaultdict(list)\n",
    "for u, v, w in times:\n",
    "    graph[u].append((v, w))"
   ]
  },
  {
   "cell_type": "code",
   "execution_count": 13,
   "metadata": {},
   "outputs": [
    {
     "name": "stdout",
     "output_type": "stream",
     "text": [
      "2\n"
     ]
    }
   ],
   "source": [
    "# Queue: [(소요시간, 정점)]\n",
    "Q = [(0, K)]\n",
    "dist = defaultdict(int)\n",
    "\n",
    "while Q:\n",
    "    time, node = heapq.heappop(Q)\n",
    "    if node not in dist:\n",
    "        dist[node] = time\n",
    "        for v, w in graph[node]:\n",
    "            alt = time + w\n",
    "            heapq.heappush(Q, (alt, v))\n",
    "\n",
    "if len(dist) == N:\n",
    "    print(max(dist.values()))"
   ]
  },
  {
   "cell_type": "code",
   "execution_count": 15,
   "metadata": {},
   "outputs": [
    {
     "data": {
      "text/plain": [
       "defaultdict(int, {2: 0, 1: 1, 3: 1, 4: 2})"
      ]
     },
     "execution_count": 15,
     "metadata": {},
     "output_type": "execute_result"
    }
   ],
   "source": [
    "dist"
   ]
  },
  {
   "cell_type": "code",
   "execution_count": 32,
   "metadata": {},
   "outputs": [
    {
     "data": {
      "text/plain": [
       "defaultdict(list, {2: [(1, 1), (3, 1)], 3: [(4, 1)], 1: [], 4: []})"
      ]
     },
     "execution_count": 32,
     "metadata": {},
     "output_type": "execute_result"
    }
   ],
   "source": [
    "graph"
   ]
  },
  {
   "cell_type": "markdown",
   "metadata": {},
   "source": [
    "--- "
   ]
  },
  {
   "cell_type": "markdown",
   "metadata": {},
   "source": [
    "## 787. Cheapest Flights Within K Stops"
   ]
  },
  {
   "cell_type": "code",
   "execution_count": 19,
   "metadata": {},
   "outputs": [],
   "source": [
    "n = 3\n",
    "edges = [[0, 1, 100],[1, 2, 100],[0, 2, 500]]\n",
    "src = 0\n",
    "dst = 2\n",
    "K = 0"
   ]
  },
  {
   "cell_type": "code",
   "execution_count": 20,
   "metadata": {},
   "outputs": [],
   "source": [
    "import heapq\n",
    "from collections import defaultdict"
   ]
  },
  {
   "cell_type": "code",
   "execution_count": 21,
   "metadata": {},
   "outputs": [],
   "source": [
    "graph = defaultdict(list)\n",
    "for u, v, w in edges:\n",
    "    graph[u].append((v, w))"
   ]
  },
  {
   "cell_type": "code",
   "execution_count": 22,
   "metadata": {},
   "outputs": [
    {
     "name": "stdout",
     "output_type": "stream",
     "text": [
      "[(100, 1, 1)]\n",
      "[(100, 1, 1), (500, 2, 1)]\n",
      "500\n"
     ]
    }
   ],
   "source": [
    "k = 0\n",
    "Q = [(0, src, k)]\n",
    "\n",
    "while Q:\n",
    "    cost, node, k = heapq.heappop(Q)\n",
    "    if node == dst:\n",
    "        print(cost)\n",
    "    if k <= K:\n",
    "        k += 1\n",
    "        for v, w in graph[node]:\n",
    "            alt = cost + w\n",
    "            heapq.heappush(Q, (alt, v, k))\n",
    "            print(Q)"
   ]
  },
  {
   "cell_type": "code",
   "execution_count": 24,
   "metadata": {},
   "outputs": [
    {
     "name": "stdout",
     "output_type": "stream",
     "text": [
      "0 0 0\n",
      "[(100, 1, -1)]\n",
      "[(100, 1, -1), (500, 2, -1)]\n",
      "100 1 -1\n",
      "500 2 -1\n",
      "500\n"
     ]
    }
   ],
   "source": [
    "k = 0\n",
    "Q = [(0, src, K)]\n",
    "\n",
    "while Q:\n",
    "    cost, node, k = heapq.heappop(Q)\n",
    "    print(cost, node, k)\n",
    "    if node == dst:\n",
    "        print(cost)\n",
    "    if k >= 0:\n",
    "        for v, w in graph[node]:\n",
    "            alt = cost + w\n",
    "            heapq.heappush(Q, (alt, v, k - 1))\n",
    "            print(Q)"
   ]
  },
  {
   "cell_type": "markdown",
   "metadata": {},
   "source": [
    "--- "
   ]
  },
  {
   "cell_type": "markdown",
   "metadata": {},
   "source": [
    "## 1753. 최단경로"
   ]
  },
  {
   "cell_type": "code",
   "execution_count": 7,
   "metadata": {},
   "outputs": [],
   "source": [
    "import heapq\n",
    "from collections import defaultdict"
   ]
  },
  {
   "cell_type": "code",
   "execution_count": 3,
   "metadata": {},
   "outputs": [
    {
     "name": "stdin",
     "output_type": "stream",
     "text": [
      " 5 6\n"
     ]
    }
   ],
   "source": [
    "V, E = list(map(int, input().split()))"
   ]
  },
  {
   "cell_type": "code",
   "execution_count": 4,
   "metadata": {},
   "outputs": [
    {
     "name": "stdin",
     "output_type": "stream",
     "text": [
      " 1\n"
     ]
    }
   ],
   "source": [
    "start = int(input())"
   ]
  },
  {
   "cell_type": "code",
   "execution_count": 22,
   "metadata": {},
   "outputs": [],
   "source": [
    "graph = defaultdict(list)\n",
    "for _ in range(E):\n",
    "    u, v, w = list(map(int, input().split()))\n",
    "    graph[u].append((v, w))"
   ]
  },
  {
   "cell_type": "code",
   "execution_count": 17,
   "metadata": {},
   "outputs": [],
   "source": [
    "# Q = [(가중치, 정점)]\n",
    "Q = [(0, start)]\n",
    "dist = defaultdict(int)\n",
    "while Q:\n",
    "    weight, node = heapq.heappop(Q)\n",
    "    if node not in dist:\n",
    "        dist[node] = weight\n",
    "        for v, w in graph[node]:\n",
    "            alt = w + weight\n",
    "            heapq.heappush(Q, (alt, v))"
   ]
  },
  {
   "cell_type": "code",
   "execution_count": 20,
   "metadata": {},
   "outputs": [
    {
     "name": "stdout",
     "output_type": "stream",
     "text": [
      "0\n",
      "2\n",
      "3\n",
      "7\n",
      "INF\n"
     ]
    }
   ],
   "source": [
    "for idx in range(1, V + 1):\n",
    "    print(dist.get(idx, \"INF\"))"
   ]
  },
  {
   "cell_type": "markdown",
   "metadata": {},
   "source": [
    "---"
   ]
  },
  {
   "cell_type": "markdown",
   "metadata": {},
   "source": [
    "## 1504. 특정한 최단 경로"
   ]
  },
  {
   "cell_type": "code",
   "execution_count": 2,
   "metadata": {},
   "outputs": [],
   "source": [
    "import heapq\n",
    "from collections import defaultdict"
   ]
  },
  {
   "cell_type": "code",
   "execution_count": 3,
   "metadata": {},
   "outputs": [
    {
     "name": "stdin",
     "output_type": "stream",
     "text": [
      " 4 6\n"
     ]
    }
   ],
   "source": [
    "N, E = list(map(int, input().split()))"
   ]
  },
  {
   "cell_type": "code",
   "execution_count": 4,
   "metadata": {},
   "outputs": [
    {
     "name": "stdin",
     "output_type": "stream",
     "text": [
      " 1 2 3\n",
      " 2 3 3\n",
      " 3 4 1\n",
      " 1 3 5\n",
      " 2 4 5\n",
      " 1 4 4\n"
     ]
    }
   ],
   "source": [
    "graph = defaultdict(list)\n",
    "for _ in range(E):\n",
    "    u, v, w = list(map(int, input().split()))\n",
    "    graph[u].append((v, w))\n",
    "    graph[v].append((u, w))"
   ]
  },
  {
   "cell_type": "code",
   "execution_count": 5,
   "metadata": {},
   "outputs": [
    {
     "name": "stdin",
     "output_type": "stream",
     "text": [
      " 2 3\n"
     ]
    }
   ],
   "source": [
    "v1, v2 = list(map(int, input().split()))"
   ]
  },
  {
   "cell_type": "code",
   "execution_count": 39,
   "metadata": {},
   "outputs": [],
   "source": [
    "def dijkstra(start_v):\n",
    "    dist = defaultdict(int)\n",
    "    Q = [(0, start_v)]\n",
    "    while Q:\n",
    "        length, node = heapq.heappop(Q)\n",
    "        if node not in dist:\n",
    "            dist[node] = length\n",
    "            for v, w in graph[node]:\n",
    "                alt = length + w\n",
    "                heapq.heappush(Q, (alt, v))\n",
    "    return dist"
   ]
  },
  {
   "cell_type": "code",
   "execution_count": 40,
   "metadata": {},
   "outputs": [],
   "source": [
    "dist1 = dijkstra(1)\n",
    "dist2 = dijkstra(v1)\n",
    "dist3 = dijkstra(v2)"
   ]
  },
  {
   "cell_type": "code",
   "execution_count": 43,
   "metadata": {},
   "outputs": [
    {
     "name": "stdout",
     "output_type": "stream",
     "text": [
      "7\n"
     ]
    }
   ],
   "source": [
    "flag1, flag2 = 0, 0\n",
    "if (\n",
    "    dist1.get(v1, \"INF\") != \"INF\"\n",
    "    and dist2.get(v2, \"INF\") != \"INF\"\n",
    "    and dist3.get(N, \"INF\") != \"INF\"\n",
    "):\n",
    "    result1 = dist1[v1] + dist2[v2] + dist3[N]\n",
    "else:\n",
    "    flag1 = 1\n",
    "\n",
    "if (\n",
    "    dist1.get(v2, \"INF\") != \"INF\"\n",
    "    and dist3.get(v1, \"INF\") != \"INF\"\n",
    "    and dist2.get(N, \"INF\") != \"INF\"\n",
    "):\n",
    "    result2 = dist1.get(v2, \"INF\") + dist3.get(v1, \"INF\") + dist2.get(N, \"INF\")\n",
    "else:\n",
    "    flag2 = 1\n",
    "\n",
    "if flag1 and flag2:\n",
    "    print(-1)\n",
    "else:\n",
    "    print(min(result1, result2))"
   ]
  },
  {
   "cell_type": "markdown",
   "metadata": {},
   "source": [
    "---"
   ]
  },
  {
   "cell_type": "markdown",
   "metadata": {},
   "source": [
    "## 9370. 미확인 도착지"
   ]
  },
  {
   "cell_type": "code",
   "execution_count": 35,
   "metadata": {},
   "outputs": [],
   "source": [
    "import heapq\n",
    "from collections import defaultdict"
   ]
  },
  {
   "cell_type": "code",
   "execution_count": 45,
   "metadata": {},
   "outputs": [],
   "source": [
    "def dijkstra(start_v):\n",
    "    dist = defaultdict(int)\n",
    "    Q = [(0, start_v)]\n",
    "    while Q:\n",
    "        length, node = heapq.heappop(Q)\n",
    "        if node not in dist:\n",
    "            dist[node] = length\n",
    "            for v, w in graph[node]:\n",
    "                alt = w + length\n",
    "                heapq.heappush(Q, (alt, v))\n",
    "    return dist"
   ]
  },
  {
   "cell_type": "code",
   "execution_count": 47,
   "metadata": {},
   "outputs": [
    {
     "name": "stdin",
     "output_type": "stream",
     "text": [
      " 1\n",
      " 5 4 2\n",
      " 1 2 3\n",
      " 1 2 6\n",
      " 2 3 2\n",
      " 3 4 4\n",
      " 3 5 3\n",
      " 5\n",
      " 4\n"
     ]
    },
    {
     "name": "stdout",
     "output_type": "stream",
     "text": [
      "4 5\n"
     ]
    }
   ],
   "source": [
    "for _ in range(int(input())):\n",
    "    n, m, t = list(map(int, input().split()))\n",
    "    s, g, h = list(map(int, input().split()))\n",
    "\n",
    "    graph = defaultdict(list)\n",
    "    for _ in range(m):\n",
    "        a, b, d = list(map(int, input().split()))\n",
    "        graph[a].append((b, d))\n",
    "        graph[b].append((a, d))\n",
    "        if (a == g and b == h) or (a == h and b == g):\n",
    "            dist_g_h = d\n",
    "\n",
    "    dst_list = []\n",
    "    for _ in range(t):\n",
    "        dst_list.append(int(input()))\n",
    "        \n",
    "    \n",
    "    s_dijk = dijkstra(s)\n",
    "    g_dijk = dijkstra(g)\n",
    "    h_dijk = dijkstra(h)\n",
    "    \n",
    "    dist_s_g = s_dijk[g]\n",
    "    dist_s_h = s_dijk[h]\n",
    "\n",
    "    result = []\n",
    "    for dst in dst_list:\n",
    "        dist_g_t = g_dijk.get(dst, 'INF')\n",
    "        dist_h_t = h_dijk.get(dst, 'INF')\n",
    "        dist_s_t = s_dijk.get(dst, 'INF')\n",
    "        \n",
    "        if dist_g_t == \"INF\" or dist_h_t == 'INF' or dist_s_t == \"INF\":\n",
    "            continue\n",
    "        \n",
    "        dist_s_g_h_t = dist_s_g + dist_g_h + dist_h_t\n",
    "        dist_s_h_g_t = dist_s_h + dist_g_h + dist_g_t\n",
    "        \n",
    "        if dist_s_g_h_t == dist_s_t or dist_s_h_g_t == dist_s_t:\n",
    "            result.append(dst)\n",
    "\n",
    "    result.sort()\n",
    "    print(*result)"
   ]
  },
  {
   "cell_type": "code",
   "execution_count": 27,
   "metadata": {},
   "outputs": [],
   "source": []
  },
  {
   "cell_type": "code",
   "execution_count": 28,
   "metadata": {},
   "outputs": [
    {
     "name": "stdout",
     "output_type": "stream",
     "text": [
      "4 5\n"
     ]
    }
   ],
   "source": [
    "print(' '.join(result))"
   ]
  },
  {
   "cell_type": "code",
   "execution_count": 32,
   "metadata": {},
   "outputs": [],
   "source": [
    "INF = float('inf')"
   ]
  },
  {
   "cell_type": "code",
   "execution_count": 33,
   "metadata": {},
   "outputs": [
    {
     "data": {
      "text/plain": [
       "inf"
      ]
     },
     "execution_count": 33,
     "metadata": {},
     "output_type": "execute_result"
    }
   ],
   "source": [
    "INF"
   ]
  },
  {
   "cell_type": "code",
   "execution_count": null,
   "metadata": {},
   "outputs": [],
   "source": []
  }
 ],
 "metadata": {
  "kernelspec": {
   "display_name": "Python 3",
   "language": "python",
   "name": "python3"
  },
  "language_info": {
   "codemirror_mode": {
    "name": "ipython",
    "version": 3
   },
   "file_extension": ".py",
   "mimetype": "text/x-python",
   "name": "python",
   "nbconvert_exporter": "python",
   "pygments_lexer": "ipython3",
   "version": "3.6.5"
  }
 },
 "nbformat": 4,
 "nbformat_minor": 4
}
