{
 "cells": [
  {
   "cell_type": "markdown",
   "metadata": {},
   "source": [
    "# Hash - 위장"
   ]
  },
  {
   "cell_type": "markdown",
   "metadata": {},
   "source": [
    "### 문제 설명\n",
    "\n",
    "스파이들은 매일 다른 옷을 조합하여 입어 자신을 위장합니다.\n",
    "\n",
    "예를 들어 스파이가 가진 옷이 아래와 같고 오늘 스파이가 동그란 안경, 긴 코트, 파란색 티셔츠를 입었다면 다음날은 청바지를 추가로 입거나 동그란 안경 대신 검정 선글라스를 착용하거나 해야 합니다.\n",
    "\n",
    "| 종류 | 이름                       |\n",
    "| ---- | -------------------------- |\n",
    "| 얼굴 | 동그란 안경, 검정 선글라스 |\n",
    "| 상의 | 파란색 티셔츠              |\n",
    "| 하의 | 청바지                     |\n",
    "| 겉옷 | 긴 코트                    |\n",
    "\n",
    "스파이가 가진 의상들이 담긴 2차원 배열 clothes가 주어질 때 서로 다른 옷의 조합의 수를 return 하도록 solution 함수를 작성해주세요.\n"
   ]
  },
  {
   "cell_type": "markdown",
   "metadata": {},
   "source": [
    "### 제한사항\n",
    "\n",
    "- clothes의 각 행은 [의상의 이름, 의상의 종류]로 이루어져 있습니다.\n",
    "- 스파이가 가진 의상의 수는 1개 이상 30개 이하입니다.\n",
    "- 같은 이름을 가진 의상은 존재하지 않습니다.\n",
    "- clothes의 모든 원소는 문자열로 이루어져 있습니다.\n",
    "- 모든 문자열의 길이는 1 이상 20 이하인 자연수이고 알파벳 소문자 또는 '_' 로만 이루어져 있습니다.\n",
    "- 스파이는 하루에 최소 한 개의 의상은 입습니다."
   ]
  },
  {
   "cell_type": "markdown",
   "metadata": {},
   "source": [
    "### 입출력 예\n",
    "\n",
    "| clothes                                                      | return |\n",
    "| ------------------------------------------------------------ | ------ |\n",
    "| [[yellow_hat, headgear], [blue_sunglasses, eyewear], [green_turban, headgear]] | 5      |\n",
    "| [[crow_mask, face], [blue_sunglasses, face], [smoky_makeup, face]] | 3      |"
   ]
  },
  {
   "cell_type": "markdown",
   "metadata": {},
   "source": [
    "### 입출력 예 설명\n",
    "\n",
    "예제 #1\n",
    "headgear에 해당하는 의상이 yellow_hat, green_turban이고 eyewear에 해당하는 의상이 blue_sunglasses이므로 아래와 같이 5개의 조합이 가능합니다.\n",
    "\n",
    "```\n",
    "1. yellow_hat\n",
    "2. blue_sunglasses\n",
    "3. green_turban\n",
    "4. yellow_hat + blue_sunglasses\n",
    "5. green_turban + blue_sunglasses\n",
    "```\n",
    "\n",
    "예제 #2\n",
    "face에 해당하는 의상이 crow_mask, blue_sunglasses, smoky_makeup이므로 아래와 같이 3개의 조합이 가능합니다.\n",
    "\n",
    "```\n",
    "1. crow_mask\n",
    "2. blue_sunglasses\n",
    "3. smoky_makeup\n",
    "```\n",
    "\n",
    "[출처](http://2013.bapc.eu/)"
   ]
  },
  {
   "cell_type": "markdown",
   "metadata": {},
   "source": [
    " "
   ]
  },
  {
   "cell_type": "markdown",
   "metadata": {},
   "source": [
    "## 01. My Solution"
   ]
  },
  {
   "cell_type": "code",
   "execution_count": 144,
   "metadata": {},
   "outputs": [],
   "source": [
    "from collections import Counter\n",
    "from itertools import combinations, chain"
   ]
  },
  {
   "cell_type": "code",
   "execution_count": 150,
   "metadata": {},
   "outputs": [],
   "source": [
    "clothes = [\n",
    "    ['c', 'A'], \n",
    "    ['b', 'A'], \n",
    "    ['a', 'A'], \n",
    "    ['yellow_hat', 'headgear'], \n",
    "    ['blue_sunglasses', 'eyewear'], \n",
    "    ['green_turban', 'headgear']\n",
    "]\n",
    "\n",
    "# clothes = [['crow_mask', 'face'], ['blue_sunglasses', 'face'], ['smoky_makeup', 'face']]"
   ]
  },
  {
   "cell_type": "code",
   "execution_count": 151,
   "metadata": {},
   "outputs": [],
   "source": [
    "cl_dict = defaultdict(list)\n",
    "\n",
    "for cl, typ in clothes:\n",
    "    cl_dict[typ].append(cl)"
   ]
  },
  {
   "cell_type": "code",
   "execution_count": 152,
   "metadata": {},
   "outputs": [],
   "source": [
    "cl_lens = [len(val) for _, val in cl_dict.items()]"
   ]
  },
  {
   "cell_type": "code",
   "execution_count": 157,
   "metadata": {},
   "outputs": [],
   "source": [
    "cnt = 0\n",
    "for r in range(1, len(cl_lens)+1):\n",
    "    for comb in chain(combinations(cl_lens, r)):\n",
    "        tmp = 1\n",
    "        for el in comb:\n",
    "            tmp *= el\n",
    "        cnt += tmp"
   ]
  },
  {
   "cell_type": "code",
   "execution_count": null,
   "metadata": {},
   "outputs": [],
   "source": []
  },
  {
   "cell_type": "code",
   "execution_count": 160,
   "metadata": {},
   "outputs": [],
   "source": [
    "from collections import defaultdict\n",
    "from itertools import combinations, chain\n",
    "\n",
    "\n",
    "def solution(clothes):\n",
    "    cl_dict = defaultdict(list)\n",
    "\n",
    "    for cl, typ in clothes:\n",
    "        cl_dict[typ].append(cl)\n",
    "        \n",
    "    cl_lens = [len(val) for _, val in cl_dict.items()]\n",
    "\n",
    "    cnt = 0\n",
    "    for r in range(1, len(cl_lens)+1):\n",
    "        for comb in chain(combinations(cl_lens, r)):\n",
    "            tmp = 1\n",
    "            for el in comb:\n",
    "                tmp *= el\n",
    "            cnt += tmp\n",
    "            \n",
    "    return cnt"
   ]
  },
  {
   "cell_type": "code",
   "execution_count": null,
   "metadata": {},
   "outputs": [],
   "source": []
  },
  {
   "cell_type": "markdown",
   "metadata": {},
   "source": [
    " "
   ]
  },
  {
   "cell_type": "markdown",
   "metadata": {},
   "source": [
    "## 02. Other Solution\n",
    "\n",
    "- `functools.reduce`를 이용하자"
   ]
  },
  {
   "cell_type": "code",
   "execution_count": 161,
   "metadata": {},
   "outputs": [],
   "source": [
    "from collections import Counter\n",
    "from functools import reduce"
   ]
  },
  {
   "cell_type": "code",
   "execution_count": 162,
   "metadata": {},
   "outputs": [],
   "source": [
    "clothes = [\n",
    "    ['c', 'A'], \n",
    "    ['b', 'A'], \n",
    "    ['a', 'A'], \n",
    "    ['yellow_hat', 'headgear'], \n",
    "    ['blue_sunglasses', 'eyewear'], \n",
    "    ['green_turban', 'headgear']\n",
    "]"
   ]
  },
  {
   "cell_type": "code",
   "execution_count": 163,
   "metadata": {},
   "outputs": [],
   "source": [
    "cnt = Counter([typ for _, typ in clothes])"
   ]
  },
  {
   "cell_type": "code",
   "execution_count": 178,
   "metadata": {},
   "outputs": [
    {
     "data": {
      "text/plain": [
       "23"
      ]
     },
     "execution_count": 178,
     "metadata": {},
     "output_type": "execute_result"
    }
   ],
   "source": [
    "reduce(lambda x, y: x*(y+1), cnt.values(), 1) - 1"
   ]
  },
  {
   "cell_type": "code",
   "execution_count": 179,
   "metadata": {},
   "outputs": [],
   "source": [
    "from collections import Counter\n",
    "from functools import reduce\n",
    "\n",
    "\n",
    "def solution(clothes):\n",
    "    cnt = Counter([typ for _, typ in clothes])\n",
    "    answer = reduce(lambda x, y: x*(y+1), cnt.values(), 1) -1 \n",
    "    return answer"
   ]
  },
  {
   "cell_type": "code",
   "execution_count": null,
   "metadata": {},
   "outputs": [],
   "source": []
  }
 ],
 "metadata": {
  "kernelspec": {
   "display_name": "Python 3",
   "language": "python",
   "name": "python3"
  },
  "language_info": {
   "codemirror_mode": {
    "name": "ipython",
    "version": 3
   },
   "file_extension": ".py",
   "mimetype": "text/x-python",
   "name": "python",
   "nbconvert_exporter": "python",
   "pygments_lexer": "ipython3",
   "version": "3.7.6"
  }
 },
 "nbformat": 4,
 "nbformat_minor": 4
}
