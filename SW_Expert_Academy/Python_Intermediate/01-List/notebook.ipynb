{
 "cells": [
  {
   "cell_type": "markdown",
   "metadata": {},
   "source": [
    "## 1. Q4828 - Min Max"
   ]
  },
  {
   "cell_type": "markdown",
   "metadata": {},
   "source": [
    "- 가장 큰 수와 가장 작은 수의 차이를 출력"
   ]
  },
  {
   "cell_type": "code",
   "execution_count": 2,
   "metadata": {},
   "outputs": [],
   "source": [
    "#T = 3\n",
    "#N = 5\n",
    "# numbers = \"477162 658880 751280 927930 297191\""
   ]
  },
  {
   "cell_type": "code",
   "execution_count": null,
   "metadata": {},
   "outputs": [],
   "source": [
    "T = int(input('T'))\n",
    "\n",
    "for idx in range(T):\n",
    "    _ = int(input('N'))\n",
    "    \n",
    "    numbers = input('Numbers')\n",
    "    numbers = list(map(int, numbers.split()))\n",
    "    \n",
    "    min_num = min(numbers)\n",
    "    max_num = max(numbers)\n",
    "    \n",
    "    print(f'#{idx+1} {max_num - min_num}')"
   ]
  },
  {
   "cell_type": "markdown",
   "metadata": {},
   "source": [
    " "
   ]
  },
  {
   "cell_type": "markdown",
   "metadata": {},
   "source": [
    "## 2. Q4831 - ElecBus"
   ]
  },
  {
   "cell_type": "code",
   "execution_count": 1,
   "metadata": {},
   "outputs": [],
   "source": [
    "# T = 3\n",
    "# K = 3\n",
    "# N = 10\n",
    "# M = 5\n",
    "# ch_stations = '1 3 5 7 9'"
   ]
  },
  {
   "cell_type": "code",
   "execution_count": 127,
   "metadata": {},
   "outputs": [],
   "source": [
    "K = '5'\n",
    "N = '20'\n",
    "charges = \"5 10 15\" # \"1 3 5 7 9\" # '1 3 7 8 9'"
   ]
  },
  {
   "cell_type": "code",
   "execution_count": 132,
   "metadata": {},
   "outputs": [],
   "source": [
    "def solution(K, N, charges):\n",
    "    K = int(K)\n",
    "    N = int(N)\n",
    "\n",
    "    stations = list(range(1, N+1))[::-1]\n",
    "    l = len(stations)\n",
    "    charges = list(map(int, charges.split()))\n",
    "\n",
    "    c_idx = 1\n",
    "    total_cnt = 0\n",
    "    while stations and len(stations) > K:\n",
    "        print(stations)\n",
    "        cnt = 0\n",
    "        curr_charges = [c for c in charges if c <= K*c_idx]\n",
    "        print(curr_charges)\n",
    "        for _ in range(K):\n",
    "            curr = stations.pop()\n",
    "            if curr in curr_charges:\n",
    "                cnt += 1\n",
    "                print(cnt)\n",
    "        \n",
    "        c_idx += 1\n",
    "        if cnt >= 1:\n",
    "            total_cnt += 1\n",
    "        else:\n",
    "            return 0\n",
    "\n",
    "    return total_cnt"
   ]
  },
  {
   "cell_type": "code",
   "execution_count": 133,
   "metadata": {},
   "outputs": [
    {
     "name": "stdout",
     "output_type": "stream",
     "text": [
      "[20, 19, 18, 17, 16, 15, 14, 13, 12, 11, 10, 9, 8, 7, 6, 5, 4, 3, 2, 1]\n",
      "[5]\n",
      "1\n",
      "[20, 19, 18, 17, 16, 15, 14, 13, 12, 11, 10, 9, 8, 7, 6]\n",
      "[5, 10]\n",
      "1\n",
      "[20, 19, 18, 17, 16, 15, 14, 13, 12, 11]\n",
      "[5, 10, 15]\n",
      "1\n"
     ]
    },
    {
     "data": {
      "text/plain": [
       "3"
      ]
     },
     "execution_count": 133,
     "metadata": {},
     "output_type": "execute_result"
    }
   ],
   "source": [
    "solution(K, N, charges)"
   ]
  },
  {
   "cell_type": "code",
   "execution_count": 110,
   "metadata": {},
   "outputs": [
    {
     "data": {
      "text/plain": [
       "True"
      ]
     },
     "execution_count": 110,
     "metadata": {},
     "output_type": "execute_result"
    }
   ],
   "source": [
    "1 in [1, 2, 3]"
   ]
  },
  {
   "cell_type": "code",
   "execution_count": null,
   "metadata": {},
   "outputs": [],
   "source": []
  }
 ],
 "metadata": {
  "kernelspec": {
   "display_name": "Python 3",
   "language": "python",
   "name": "python3"
  },
  "language_info": {
   "codemirror_mode": {
    "name": "ipython",
    "version": 3
   },
   "file_extension": ".py",
   "mimetype": "text/x-python",
   "name": "python",
   "nbconvert_exporter": "python",
   "pygments_lexer": "ipython3",
   "version": "3.6.10"
  }
 },
 "nbformat": 4,
 "nbformat_minor": 4
}
