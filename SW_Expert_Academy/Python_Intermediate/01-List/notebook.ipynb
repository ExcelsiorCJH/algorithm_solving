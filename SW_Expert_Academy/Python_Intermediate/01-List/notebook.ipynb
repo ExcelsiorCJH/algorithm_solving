{
 "cells": [
  {
   "cell_type": "markdown",
   "metadata": {},
   "source": [
    "## 1. Q4828 - Min Max"
   ]
  },
  {
   "cell_type": "markdown",
   "metadata": {},
   "source": [
    "- 가장 큰 수와 가장 작은 수의 차이를 출력"
   ]
  },
  {
   "cell_type": "code",
   "execution_count": 2,
   "metadata": {},
   "outputs": [],
   "source": [
    "#T = 3\n",
    "#N = 5\n",
    "# numbers = \"477162 658880 751280 927930 297191\""
   ]
  },
  {
   "cell_type": "code",
   "execution_count": null,
   "metadata": {},
   "outputs": [],
   "source": [
    "T = int(input('T'))\n",
    "\n",
    "for idx in range(T):\n",
    "    _ = int(input('N'))\n",
    "    \n",
    "    numbers = input('Numbers')\n",
    "    numbers = list(map(int, numbers.split()))\n",
    "    \n",
    "    min_num = min(numbers)\n",
    "    max_num = max(numbers)\n",
    "    \n",
    "    print(f'#{idx+1} {max_num - min_num}')"
   ]
  },
  {
   "cell_type": "markdown",
   "metadata": {},
   "source": [
    " "
   ]
  },
  {
   "cell_type": "markdown",
   "metadata": {},
   "source": [
    "## 2. Q4831 - ElecBus"
   ]
  },
  {
   "cell_type": "code",
   "execution_count": 1,
   "metadata": {},
   "outputs": [],
   "source": [
    "# T = 3\n",
    "# K = 3\n",
    "# N = 10\n",
    "# M = 5\n",
    "# ch_stations = '1 3 5 7 9'"
   ]
  },
  {
   "cell_type": "code",
   "execution_count": 4,
   "metadata": {},
   "outputs": [],
   "source": [
    "K = '3'\n",
    "N = '10'\n",
    "charges = \"1 3 5 7 9\"  # \"5 10 15\" # \"1 3 5 7 9\" # '1 3 7 8 9'"
   ]
  },
  {
   "cell_type": "code",
   "execution_count": 132,
   "metadata": {},
   "outputs": [],
   "source": [
    "def solution(K, N, charges):\n",
    "    K = int(K)\n",
    "    N = int(N)\n",
    "\n",
    "    stations = list(range(1, N+1))[::-1]\n",
    "    l = len(stations)\n",
    "    charges = list(map(int, charges.split()))\n",
    "\n",
    "    c_idx = 1\n",
    "    total_cnt = 0\n",
    "    while stations and len(stations) > K:\n",
    "        print(stations)\n",
    "        cnt = 0\n",
    "        curr_charges = [c for c in charges if c <= K*c_idx]\n",
    "        print(curr_charges)\n",
    "        for _ in range(K):\n",
    "            curr = stations.pop()\n",
    "            if curr in curr_charges:\n",
    "                cnt += 1\n",
    "                print(cnt)\n",
    "        \n",
    "        c_idx += 1\n",
    "        if cnt >= 1:\n",
    "            total_cnt += 1\n",
    "        else:\n",
    "            return 0\n",
    "\n",
    "    return total_cnt"
   ]
  },
  {
   "cell_type": "code",
   "execution_count": 1,
   "metadata": {},
   "outputs": [],
   "source": [
    "# solution(K, N, charges)"
   ]
  },
  {
   "cell_type": "code",
   "execution_count": 154,
   "metadata": {},
   "outputs": [],
   "source": [
    "K = '3'\n",
    "N = '10'\n",
    "c_stations = \"1 3 7 8 9\"# \"5 10 15\"# '1 3 5 7 9' # \"5 10 15\" # \"1 3 5 7 9\" # '1 3 7 8 9'"
   ]
  },
  {
   "cell_type": "code",
   "execution_count": 155,
   "metadata": {},
   "outputs": [],
   "source": [
    "# K = int(K)\n",
    "# N = int(N)\n",
    "\n",
    "# stations = list(range(1, N+1))[::-1]\n",
    "# c_stations = list(map(int, c_stations.split()))"
   ]
  },
  {
   "cell_type": "code",
   "execution_count": 158,
   "metadata": {},
   "outputs": [],
   "source": [
    "# def solution(K, N, c_stations):\n",
    "#     K = int(K)\n",
    "#     N = int(N)\n",
    "\n",
    "#     stations = list(range(1, N+1))[::-1]\n",
    "#     c_stations = list(map(int, c_stations.split()))\n",
    "\n",
    "#     k_cnt, c_cnt = 0, 0\n",
    "#     paths, charges = [], []\n",
    "#     while stations:\n",
    "#         k_cnt += 1\n",
    "#         paths.append(stations.pop())\n",
    "#         if k_cnt == K:\n",
    "#             print(paths)\n",
    "#             for path in paths:\n",
    "#                 if path in c_stations:\n",
    "#                     charges.append(path)\n",
    "\n",
    "#             if charges:\n",
    "#                 c_cnt += 1\n",
    "#             elif not charges and len(stations) > K:\n",
    "#                 c_cnt = 0\n",
    "#                 break\n",
    "\n",
    "#             k_cnt = 0\n",
    "#             paths, charges= [], []\n",
    "    \n",
    "#     return c_cnt"
   ]
  },
  {
   "cell_type": "code",
   "execution_count": 68,
   "metadata": {},
   "outputs": [],
   "source": [
    "K = '5'\n",
    "N = '20'\n",
    "c_list = \"4 7 9 14 17\"# '1 3 5 7 9' # \"5 10 15\" # \"1 3 5 7 9\" # '1 3 7 8 9'"
   ]
  },
  {
   "cell_type": "code",
   "execution_count": 69,
   "metadata": {},
   "outputs": [],
   "source": [
    "K = int(K)\n",
    "N = int(N)\n",
    "c_list = list(map(int, c_list.split()))\n",
    "stations = [0] * N"
   ]
  },
  {
   "cell_type": "code",
   "execution_count": 70,
   "metadata": {},
   "outputs": [],
   "source": [
    "for idx in range(1, N+1):\n",
    "    if idx in c_list:\n",
    "        stations[idx-1] = 1\n",
    "stations.reverse()"
   ]
  },
  {
   "cell_type": "code",
   "execution_count": 71,
   "metadata": {},
   "outputs": [
    {
     "data": {
      "text/plain": [
       "[0, 0, 0, 1, 0, 0, 1, 0, 0, 0, 0, 1, 0, 1, 0, 0, 1, 0, 0, 0]"
      ]
     },
     "execution_count": 71,
     "metadata": {},
     "output_type": "execute_result"
    }
   ],
   "source": [
    "stations"
   ]
  },
  {
   "cell_type": "code",
   "execution_count": 72,
   "metadata": {},
   "outputs": [
    {
     "name": "stdout",
     "output_type": "stream",
     "text": [
      "[0, 0, 0, 1, 0]\n",
      "[0, 1, 0, 1, 0]\n",
      "[0, 0, 0, 1, 0]\n",
      "[0, 1, 0, 0, 0]\n"
     ]
    }
   ],
   "source": [
    "paths = []\n",
    "cnt = 0\n",
    "for _ in range(len(stations) // K):\n",
    "    for _ in range(K):\n",
    "        paths.append(stations.pop())\n",
    "    \n",
    "    print(paths)\n",
    "    if 1 in paths:\n",
    "        cnt += 1\n",
    "    elif 1 not in paths and len(stations) > K:\n",
    "        cnt = 0 \n",
    "        break\n",
    "    \n",
    "    paths = []"
   ]
  },
  {
   "cell_type": "code",
   "execution_count": 73,
   "metadata": {},
   "outputs": [
    {
     "data": {
      "text/plain": [
       "4"
      ]
     },
     "execution_count": 73,
     "metadata": {},
     "output_type": "execute_result"
    }
   ],
   "source": [
    "cnt"
   ]
  },
  {
   "cell_type": "code",
   "execution_count": 77,
   "metadata": {},
   "outputs": [],
   "source": [
    "def solution(K, N, c_list):\n",
    "    K = int(K)\n",
    "    N = int(N)\n",
    "    c_list = list(map(int, c_list.split()))\n",
    "    stations = [0] * N\n",
    "    \n",
    "    for idx in range(1, N+1):\n",
    "        if idx in c_list:\n",
    "            stations[idx-1] = 1\n",
    "    stations.reverse()\n",
    "    \n",
    "    paths = []\n",
    "    cnt = 0\n",
    "    for _ in range(len(stations) // K):\n",
    "        for _ in range(K):\n",
    "            paths.append(stations.pop())\n",
    "\n",
    "        if 1 in paths:\n",
    "            cnt += 1\n",
    "        elif 1 not in paths and len(stations) > K:\n",
    "            cnt = 0 \n",
    "            break\n",
    "\n",
    "        paths = []\n",
    "        \n",
    "    return cnt"
   ]
  },
  {
   "cell_type": "code",
   "execution_count": 93,
   "metadata": {},
   "outputs": [],
   "source": [
    "K = '5'\n",
    "N = '20'\n",
    "c_list = \"4 7 9 14 17\"# '1 3 5 7 9' # \"5 10 15\" # \"1 3 5 7 9\" # '1 3 7 8 9'"
   ]
  },
  {
   "cell_type": "code",
   "execution_count": 94,
   "metadata": {},
   "outputs": [],
   "source": [
    "K = int(K)\n",
    "N = int(N)\n",
    "c_list = list(map(int, c_list.split()))"
   ]
  },
  {
   "cell_type": "code",
   "execution_count": 95,
   "metadata": {},
   "outputs": [],
   "source": [
    "stations = [0] * (N+1)"
   ]
  },
  {
   "cell_type": "code",
   "execution_count": 96,
   "metadata": {},
   "outputs": [],
   "source": [
    "for idx in range(1, N+1):\n",
    "    if idx in c_list:\n",
    "        stations[idx] = 1"
   ]
  },
  {
   "cell_type": "code",
   "execution_count": 99,
   "metadata": {},
   "outputs": [],
   "source": [
    "start = 0\n",
    "end = K\n",
    "cnt = 0"
   ]
  },
  {
   "cell_type": "code",
   "execution_count": 100,
   "metadata": {},
   "outputs": [],
   "source": [
    "while True:\n",
    "    zero = 0\n",
    "    for i in range(start+1, end+1):\n",
    "        if stations[i] == 1:\n",
    "            start = i\n",
    "        else:\n",
    "            zero += 1\n",
    "            \n",
    "    if zero == K:\n",
    "        cnt = 0\n",
    "        break\n",
    "    \n",
    "    cnt += 1\n",
    "    end = start + K\n",
    "    \n",
    "    if end >= N:\n",
    "        break"
   ]
  },
  {
   "cell_type": "code",
   "execution_count": 101,
   "metadata": {},
   "outputs": [],
   "source": [
    "def solution(K, N, c_list):\n",
    "    K = int(K)\n",
    "    N = int(N)\n",
    "    c_list = list(map(int, c_list.split()))\n",
    "    stations = [0] * (N+1)\n",
    "    \n",
    "    for idx in range(1, N+1):\n",
    "        if idx in c_list:\n",
    "            stations[idx] = 1\n",
    "            \n",
    "    start = 0\n",
    "    end = K\n",
    "    cnt = 0\n",
    "    \n",
    "    while True:\n",
    "        zero = 0\n",
    "        for i in range(start+1, end+1):\n",
    "            if stations[i] == 1:\n",
    "                start = i\n",
    "            else:\n",
    "                zero += 1\n",
    "\n",
    "        if zero == K:\n",
    "            cnt = 0\n",
    "            break\n",
    "\n",
    "        cnt += 1\n",
    "        end = start + K\n",
    "    \n",
    "        if end >= N:\n",
    "            break\n",
    "            \n",
    "    return cnt"
   ]
  },
  {
   "cell_type": "code",
   "execution_count": 102,
   "metadata": {},
   "outputs": [],
   "source": [
    "K = '5'\n",
    "N = '20'\n",
    "c_list = \"4 7 9 14 17\"# '1 3 5 7 9' # \"5 10 15\" # \"1 3 5 7 9\" # '1 3 7 8 9'"
   ]
  },
  {
   "cell_type": "code",
   "execution_count": 103,
   "metadata": {},
   "outputs": [
    {
     "data": {
      "text/plain": [
       "4"
      ]
     },
     "execution_count": 103,
     "metadata": {},
     "output_type": "execute_result"
    }
   ],
   "source": [
    "solution(K, N, c_list)"
   ]
  },
  {
   "cell_type": "code",
   "execution_count": null,
   "metadata": {},
   "outputs": [],
   "source": []
  }
 ],
 "metadata": {
  "kernelspec": {
   "display_name": "Python 3",
   "language": "python",
   "name": "python3"
  },
  "language_info": {
   "codemirror_mode": {
    "name": "ipython",
    "version": 3
   },
   "file_extension": ".py",
   "mimetype": "text/x-python",
   "name": "python",
   "nbconvert_exporter": "python",
   "pygments_lexer": "ipython3",
   "version": "3.6.10"
  }
 },
 "nbformat": 4,
 "nbformat_minor": 4
}
