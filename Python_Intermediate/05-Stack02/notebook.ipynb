{
 "cells": [
  {
   "cell_type": "markdown",
   "metadata": {},
   "source": [
    "# Stack02"
   ]
  },
  {
   "cell_type": "markdown",
   "metadata": {},
   "source": [
    " "
   ]
  },
  {
   "cell_type": "markdown",
   "metadata": {},
   "source": [
    "## Quick Sort (퀵 정렬)\n",
    "\n",
    "- 피벗 앞에는 피벗 보다 작은 값이 오고, 피벗 뒤에는 피벗보다 큰값이 오도록 피벗을 기준으로 리스트를 둘로 나눈다."
   ]
  },
  {
   "cell_type": "code",
   "execution_count": 3,
   "metadata": {},
   "outputs": [],
   "source": [
    "def quick_sort_cache(seq):\n",
    "    \n",
    "    if len(seq) < 2:\n",
    "        return seq\n",
    "    \n",
    "    pivot_idx = len(seq) // 2\n",
    "    pivot = seq[pivot_idx]\n",
    "    \n",
    "    # before pivot\n",
    "    before = [x for idx, x in enumerate(seq) if x <= pivot and idx != pivot_idx]\n",
    "    # after pivot\n",
    "    after = [x for idx, x in enumerate(seq) if x > pivot and idx != pivot_idx]\n",
    "    \n",
    "    print('pivot :', pivot)\n",
    "    print('before :', before)\n",
    "    print('after :', after)\n",
    "    \n",
    "    return quick_sort_cache(before) + [pivot] + quick_sort_cache(after)"
   ]
  },
  {
   "cell_type": "code",
   "execution_count": 4,
   "metadata": {},
   "outputs": [
    {
     "name": "stdout",
     "output_type": "stream",
     "text": [
      "pivot : 1\n",
      "before : [0]\n",
      "after : [3, 4, 2, 6, 8, 3, 5, 6, 2]\n",
      "pivot : 8\n",
      "before : [3, 4, 2, 6, 3, 5, 6, 2]\n",
      "after : []\n",
      "pivot : 3\n",
      "before : [3, 2, 2]\n",
      "after : [4, 6, 5, 6]\n",
      "pivot : 2\n",
      "before : [2]\n",
      "after : [3]\n",
      "pivot : 5\n",
      "before : [4]\n",
      "after : [6, 6]\n",
      "pivot : 6\n",
      "before : [6]\n",
      "after : []\n"
     ]
    },
    {
     "data": {
      "text/plain": [
       "[0, 1, 2, 2, 3, 3, 4, 5, 6, 6, 8]"
      ]
     },
     "execution_count": 4,
     "metadata": {},
     "output_type": "execute_result"
    }
   ],
   "source": [
    "seq = [3, 4, 2, 6, 8, 1, 0, 3, 5, 6, 2]\n",
    "\n",
    "quick_sort_cache(seq)"
   ]
  },
  {
   "cell_type": "markdown",
   "metadata": {},
   "source": [
    " "
   ]
  },
  {
   "cell_type": "markdown",
   "metadata": {},
   "source": [
    "## Q4874 - Forth"
   ]
  },
  {
   "cell_type": "code",
   "execution_count": 78,
   "metadata": {},
   "outputs": [],
   "source": [
    "eq_list = '10 2 + 3 4 + * .'.split()[::-1]\n",
    "# eq_list = '5 3 * + .'.split()[::-1]"
   ]
  },
  {
   "cell_type": "code",
   "execution_count": 79,
   "metadata": {},
   "outputs": [],
   "source": [
    "def calculator(num1, num2, op):\n",
    "    if op == '+':\n",
    "        result = num1 + num2\n",
    "    elif op == '-':\n",
    "        result = num1 - num2\n",
    "    elif op == '/':\n",
    "        result = num1 // num2\n",
    "    elif op == '*':\n",
    "        result = num1 * num2\n",
    "    return result"
   ]
  },
  {
   "cell_type": "code",
   "execution_count": 80,
   "metadata": {},
   "outputs": [],
   "source": [
    "stack = []\n",
    "answer = 0\n",
    "\n",
    "while eq_list:\n",
    "    x = eq_list.pop()\n",
    "    if x.isdigit():\n",
    "        stack.append(int(x))\n",
    "    else:\n",
    "        try:\n",
    "            if x == '.' and len(stack) == 1:\n",
    "                answer = stack.pop()\n",
    "            else:\n",
    "                num2 = stack.pop()\n",
    "                num1 = stack.pop()\n",
    "                stack.append(calculator(num1, num2, x))\n",
    "        except:\n",
    "            answer = 'error'"
   ]
  },
  {
   "cell_type": "code",
   "execution_count": 81,
   "metadata": {},
   "outputs": [
    {
     "data": {
      "text/plain": [
       "84"
      ]
     },
     "execution_count": 81,
     "metadata": {},
     "output_type": "execute_result"
    }
   ],
   "source": [
    "answer"
   ]
  },
  {
   "cell_type": "code",
   "execution_count": 73,
   "metadata": {},
   "outputs": [],
   "source": [
    "stack = []\n",
    "operators = ['+', '-', '/', '*', '.']\n",
    "answer = 0\n",
    "while eq_list:\n",
    "    x = eq_list.pop()\n",
    "    if x not in operators:\n",
    "        stack.append(x)\n",
    "    else:\n",
    "        try:\n",
    "            if x == '.' and len(eq_list) == 0:\n",
    "                answer = stack.pop()\n",
    "            else:\n",
    "                a = stack.pop()\n",
    "                b = stack.pop()\n",
    "                stack.append(eval(f'{a} {x} {b}'))\n",
    "        except:\n",
    "            answer = 'error'"
   ]
  },
  {
   "cell_type": "code",
   "execution_count": 74,
   "metadata": {},
   "outputs": [
    {
     "name": "stdout",
     "output_type": "stream",
     "text": [
      "error\n"
     ]
    }
   ],
   "source": [
    "print(answer)"
   ]
  },
  {
   "cell_type": "code",
   "execution_count": 38,
   "metadata": {},
   "outputs": [
    {
     "data": {
      "text/plain": [
       "[]"
      ]
     },
     "execution_count": 38,
     "metadata": {},
     "output_type": "execute_result"
    }
   ],
   "source": [
    "eq_list"
   ]
  },
  {
   "cell_type": "code",
   "execution_count": 40,
   "metadata": {},
   "outputs": [
    {
     "data": {
      "text/plain": [
       "True"
      ]
     },
     "execution_count": 40,
     "metadata": {},
     "output_type": "execute_result"
    }
   ],
   "source": [
    "'1'.isdigit()"
   ]
  },
  {
   "cell_type": "code",
   "execution_count": null,
   "metadata": {},
   "outputs": [],
   "source": []
  }
 ],
 "metadata": {
  "kernelspec": {
   "display_name": "Python 3",
   "language": "python",
   "name": "python3"
  },
  "language_info": {
   "codemirror_mode": {
    "name": "ipython",
    "version": 3
   },
   "file_extension": ".py",
   "mimetype": "text/x-python",
   "name": "python",
   "nbconvert_exporter": "python",
   "pygments_lexer": "ipython3",
   "version": "3.7.6"
  }
 },
 "nbformat": 4,
 "nbformat_minor": 4
}
