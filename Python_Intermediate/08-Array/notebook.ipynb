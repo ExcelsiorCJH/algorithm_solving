{
 "cells": [
  {
   "cell_type": "markdown",
   "metadata": {},
   "source": [
    "# Leet Code Problems"
   ]
  },
  {
   "cell_type": "markdown",
   "metadata": {},
   "source": [
    " "
   ]
  },
  {
   "cell_type": "markdown",
   "metadata": {},
   "source": [
    "## 1. Two Sum\n",
    "\n",
    "```\n",
    "inputs\n",
    ">>> nums = [2, 7, 11, 15], target = 9\n",
    "output\n",
    ">>> [0, 1]\n",
    "```"
   ]
  },
  {
   "cell_type": "markdown",
   "metadata": {},
   "source": [
    "### 1) Brute-Force"
   ]
  },
  {
   "cell_type": "code",
   "execution_count": 2,
   "metadata": {},
   "outputs": [],
   "source": [
    "nums = [2, 7, 11, 15]\n",
    "target = 9"
   ]
  },
  {
   "cell_type": "code",
   "execution_count": 3,
   "metadata": {},
   "outputs": [
    {
     "name": "stdout",
     "output_type": "stream",
     "text": [
      "[0, 1]\n"
     ]
    }
   ],
   "source": [
    "for i in range(len(nums)):\n",
    "    for j in range(i+1, len(nums)):\n",
    "        if nums[i] + nums[j] == target:\n",
    "            print([i, j])"
   ]
  },
  {
   "cell_type": "markdown",
   "metadata": {},
   "source": [
    " "
   ]
  },
  {
   "cell_type": "markdown",
   "metadata": {},
   "source": [
    "### 2) in을 이용한 탐색\n",
    "\n",
    "- 타겟에서 첫 번째 값을 뺸 `target - n1`이 존재하는지 탐색"
   ]
  },
  {
   "cell_type": "code",
   "execution_count": 4,
   "metadata": {},
   "outputs": [
    {
     "name": "stdout",
     "output_type": "stream",
     "text": [
      "[0, 1]\n"
     ]
    }
   ],
   "source": [
    "for idx, num1 in enumerate(nums):\n",
    "    num2 = target - num1\n",
    "    if num2 in nums[idx+1:]:\n",
    "        print([idx, nums[idx+1:].index(num2) + (idx+1)])"
   ]
  },
  {
   "cell_type": "markdown",
   "metadata": {},
   "source": [
    "  "
   ]
  },
  {
   "cell_type": "markdown",
   "metadata": {},
   "source": [
    "### 3) 첫 번쨰 수를 뺀 결과 키 조회"
   ]
  },
  {
   "cell_type": "code",
   "execution_count": 5,
   "metadata": {},
   "outputs": [
    {
     "name": "stdout",
     "output_type": "stream",
     "text": [
      "0 1\n",
      "1 0\n"
     ]
    }
   ],
   "source": [
    "nums_dict = {num: idx for idx, num in enumerate(nums)}\n",
    "\n",
    "for idx, num in enumerate(nums):\n",
    "    if target - num in nums_dict and idx != nums_dict[target - num]:\n",
    "        print(idx, nums_dict[target - num])"
   ]
  },
  {
   "cell_type": "code",
   "execution_count": 6,
   "metadata": {},
   "outputs": [
    {
     "name": "stdout",
     "output_type": "stream",
     "text": [
      "0 1\n"
     ]
    }
   ],
   "source": [
    "nums_dict = {}\n",
    "for idx, num in enumerate(nums):\n",
    "    if target - num in nums_dict:\n",
    "        print(nums_dict[target-num], idx)\n",
    "    nums_dict[num] = idx"
   ]
  },
  {
   "cell_type": "markdown",
   "metadata": {},
   "source": [
    " "
   ]
  },
  {
   "cell_type": "markdown",
   "metadata": {},
   "source": [
    "### 4) 투 포인터 사용\n",
    "\n",
    "- 리스트가 정렬되어 있다고 가정하고 풀 수 있다.\n",
    "\n",
    "- 해당 문제에서는 index를 찾는 것이기 때문에 투 포인터로 풀 수 없다.\n",
    "\n",
    "- 왜냐하면, 정렬을 하게 되면 index가 달라지기 때문이다."
   ]
  },
  {
   "cell_type": "code",
   "execution_count": 7,
   "metadata": {},
   "outputs": [
    {
     "name": "stdout",
     "output_type": "stream",
     "text": [
      "0 1\n"
     ]
    }
   ],
   "source": [
    "nums.sort()\n",
    "\n",
    "left, right = 0, len(nums) - 1\n",
    "while left != right:\n",
    "    # 합이 타겟보다 크면 오른쪽 포인터를 왼쪽으로\n",
    "    if nums[left] + nums[right] < target:\n",
    "        left += 1\n",
    "    # 합이 타겟보다 작으면 왼쪽 포인터를 오른쪽으로\n",
    "    if nums[left] + nums[right] > target:\n",
    "        right -= 1\n",
    "    else:\n",
    "        print(left, right)\n",
    "        break"
   ]
  },
  {
   "cell_type": "markdown",
   "metadata": {},
   "source": [
    " "
   ]
  },
  {
   "cell_type": "markdown",
   "metadata": {},
   "source": [
    "## 42. Trapping Rain Water ★★★\n",
    "\n",
    "```\n",
    "Input: [0,1,0,2,1,0,1,3,2,1,2,1]\n",
    "Output: 6\n",
    "```\n",
    "\n",
    "![](./images/rainwatertrap.png)"
   ]
  },
  {
   "cell_type": "markdown",
   "metadata": {},
   "source": [
    "### 1) Use Stack"
   ]
  },
  {
   "cell_type": "code",
   "execution_count": 5,
   "metadata": {},
   "outputs": [],
   "source": [
    "height = [0,1,0,2,1,0,1,3,2,1,2,1]"
   ]
  },
  {
   "cell_type": "code",
   "execution_count": 9,
   "metadata": {},
   "outputs": [],
   "source": [
    "stack = []\n",
    "vol = 0\n",
    "\n",
    "for i in range(len(height)):\n",
    "    while stack and height[i] > height[stack[-1]]:\n",
    "        top = stack.pop()\n",
    "        \n",
    "        if not len(stack):\n",
    "            break\n",
    "        \n",
    "        diff = i - stack[-1] - 1\n",
    "        waters = min(height[i], height[stack[-1]]) - height[top]\n",
    "        \n",
    "        #  print((i, diff, waters))\n",
    "        \n",
    "        vol += diff * waters\n",
    "    \n",
    "    stack.append(i)"
   ]
  },
  {
   "cell_type": "code",
   "execution_count": 10,
   "metadata": {},
   "outputs": [
    {
     "data": {
      "text/plain": [
       "6"
      ]
     },
     "execution_count": 10,
     "metadata": {},
     "output_type": "execute_result"
    }
   ],
   "source": [
    "vol"
   ]
  },
  {
   "cell_type": "markdown",
   "metadata": {},
   "source": [
    " "
   ]
  },
  {
   "cell_type": "markdown",
   "metadata": {},
   "source": [
    "### 2) 투 포인터"
   ]
  },
  {
   "cell_type": "code",
   "execution_count": 12,
   "metadata": {},
   "outputs": [],
   "source": [
    "if not height:\n",
    "    print(0)\n",
    "    \n",
    "vol = 0\n",
    "left, right = 0, len(height) - 1\n",
    "left_max, right_max = height[left], height[right]\n",
    "\n",
    "while left < right:\n",
    "    left_max = max(height[left], left_max)\n",
    "    right_max = max(height[right], right_max)\n",
    "    \n",
    "    if left_max <= right_max:\n",
    "        vol += left_max - height[left]\n",
    "        left += 1\n",
    "    else:\n",
    "        vol += right_max - height[right]\n",
    "        right -= 1"
   ]
  },
  {
   "cell_type": "code",
   "execution_count": 13,
   "metadata": {},
   "outputs": [
    {
     "data": {
      "text/plain": [
       "6"
      ]
     },
     "execution_count": 13,
     "metadata": {},
     "output_type": "execute_result"
    }
   ],
   "source": [
    "vol"
   ]
  },
  {
   "cell_type": "code",
   "execution_count": null,
   "metadata": {},
   "outputs": [],
   "source": []
  }
 ],
 "metadata": {
  "kernelspec": {
   "display_name": "Python 3",
   "language": "python",
   "name": "python3"
  },
  "language_info": {
   "codemirror_mode": {
    "name": "ipython",
    "version": 3
   },
   "file_extension": ".py",
   "mimetype": "text/x-python",
   "name": "python",
   "nbconvert_exporter": "python",
   "pygments_lexer": "ipython3",
   "version": "3.6.5"
  }
 },
 "nbformat": 4,
 "nbformat_minor": 4
}
